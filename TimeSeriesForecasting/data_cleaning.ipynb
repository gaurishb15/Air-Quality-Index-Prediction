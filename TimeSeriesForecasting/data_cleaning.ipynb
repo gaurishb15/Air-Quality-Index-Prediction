{
 "cells": [
  {
   "attachments": {},
   "cell_type": "markdown",
   "metadata": {},
   "source": [
    "# Trying to clean the dataset"
   ]
  },
  {
   "attachments": {},
   "cell_type": "markdown",
   "metadata": {},
   "source": [
    "- we have data from 17th Dec 2021 13:00 till 30th Nov 2022 23:00, hourly data is what we have\n",
    "\n",
    "\n",
    "- total of 8627 data points\n",
    "\n",
    "- we only have 4980 data points in the acutal data set, so almost 43% of data is missing "
   ]
  },
  {
   "attachments": {},
   "cell_type": "markdown",
   "metadata": {},
   "source": [
    "## Actual Code"
   ]
  },
  {
   "cell_type": "code",
   "execution_count": 18,
   "metadata": {},
   "outputs": [],
   "source": [
    "import pandas as pd \n",
    "import numpy as np \n",
    "import matplotlib.pyplot as plt "
   ]
  },
  {
   "cell_type": "code",
   "execution_count": 2,
   "metadata": {},
   "outputs": [
    {
     "data": {
      "text/html": [
       "<div>\n",
       "<style scoped>\n",
       "    .dataframe tbody tr th:only-of-type {\n",
       "        vertical-align: middle;\n",
       "    }\n",
       "\n",
       "    .dataframe tbody tr th {\n",
       "        vertical-align: top;\n",
       "    }\n",
       "\n",
       "    .dataframe thead th {\n",
       "        text-align: right;\n",
       "    }\n",
       "</style>\n",
       "<table border=\"1\" class=\"dataframe\">\n",
       "  <thead>\n",
       "    <tr style=\"text-align: right;\">\n",
       "      <th></th>\n",
       "      <th>Timestamp</th>\n",
       "      <th>Reference</th>\n",
       "      <th>Sensor</th>\n",
       "      <th>diff</th>\n",
       "    </tr>\n",
       "  </thead>\n",
       "  <tbody>\n",
       "    <tr>\n",
       "      <th>1</th>\n",
       "      <td>2021-12-17 13:00:00</td>\n",
       "      <td>31.865</td>\n",
       "      <td>48.250000</td>\n",
       "      <td>0.514201</td>\n",
       "    </tr>\n",
       "    <tr>\n",
       "      <th>2</th>\n",
       "      <td>2021-12-17 14:00:00</td>\n",
       "      <td>34.200</td>\n",
       "      <td>47.333333</td>\n",
       "      <td>0.384016</td>\n",
       "    </tr>\n",
       "    <tr>\n",
       "      <th>3</th>\n",
       "      <td>2021-12-17 15:00:00</td>\n",
       "      <td>31.200</td>\n",
       "      <td>45.333333</td>\n",
       "      <td>0.452991</td>\n",
       "    </tr>\n",
       "    <tr>\n",
       "      <th>4</th>\n",
       "      <td>2021-12-17 16:00:00</td>\n",
       "      <td>34.600</td>\n",
       "      <td>55.250000</td>\n",
       "      <td>0.596821</td>\n",
       "    </tr>\n",
       "    <tr>\n",
       "      <th>5</th>\n",
       "      <td>2021-12-17 17:00:00</td>\n",
       "      <td>43.600</td>\n",
       "      <td>72.750000</td>\n",
       "      <td>0.668578</td>\n",
       "    </tr>\n",
       "  </tbody>\n",
       "</table>\n",
       "</div>"
      ],
      "text/plain": [
       "            Timestamp  Reference     Sensor      diff\n",
       "1 2021-12-17 13:00:00     31.865  48.250000  0.514201\n",
       "2 2021-12-17 14:00:00     34.200  47.333333  0.384016\n",
       "3 2021-12-17 15:00:00     31.200  45.333333  0.452991\n",
       "4 2021-12-17 16:00:00     34.600  55.250000  0.596821\n",
       "5 2021-12-17 17:00:00     43.600  72.750000  0.668578"
      ]
     },
     "execution_count": 2,
     "metadata": {},
     "output_type": "execute_result"
    }
   ],
   "source": [
    "df = pd.read_csv(\"data_3_clean.csv\", index_col=0)\n",
    "df['Timestamp'] = pd.to_datetime(df['Timestamp'])\n",
    "df.head()"
   ]
  },
  {
   "cell_type": "code",
   "execution_count": 3,
   "metadata": {},
   "outputs": [
    {
     "data": {
      "text/plain": [
       "1      2021-12-17 13:00:00\n",
       "2      2021-12-17 14:00:00\n",
       "3      2021-12-17 15:00:00\n",
       "4      2021-12-17 16:00:00\n",
       "5      2021-12-17 17:00:00\n",
       "               ...        \n",
       "4976   2022-11-30 19:00:00\n",
       "4977   2022-11-30 20:00:00\n",
       "4978   2022-11-30 21:00:00\n",
       "4979   2022-11-30 22:00:00\n",
       "4980   2022-11-30 23:00:00\n",
       "Name: Timestamp, Length: 4980, dtype: datetime64[ns]"
      ]
     },
     "execution_count": 3,
     "metadata": {},
     "output_type": "execute_result"
    }
   ],
   "source": [
    "df['Timestamp']"
   ]
  },
  {
   "cell_type": "code",
   "execution_count": 4,
   "metadata": {},
   "outputs": [
    {
     "data": {
      "text/plain": [
       "(4980, 4)"
      ]
     },
     "execution_count": 4,
     "metadata": {},
     "output_type": "execute_result"
    }
   ],
   "source": [
    "df.shape"
   ]
  },
  {
   "cell_type": "code",
   "execution_count": 5,
   "metadata": {},
   "outputs": [
    {
     "data": {
      "text/html": [
       "<div>\n",
       "<style scoped>\n",
       "    .dataframe tbody tr th:only-of-type {\n",
       "        vertical-align: middle;\n",
       "    }\n",
       "\n",
       "    .dataframe tbody tr th {\n",
       "        vertical-align: top;\n",
       "    }\n",
       "\n",
       "    .dataframe thead th {\n",
       "        text-align: right;\n",
       "    }\n",
       "</style>\n",
       "<table border=\"1\" class=\"dataframe\">\n",
       "  <thead>\n",
       "    <tr style=\"text-align: right;\">\n",
       "      <th></th>\n",
       "      <th>Reference</th>\n",
       "      <th>Sensor</th>\n",
       "      <th>diff</th>\n",
       "    </tr>\n",
       "    <tr>\n",
       "      <th>Timestamp</th>\n",
       "      <th></th>\n",
       "      <th></th>\n",
       "      <th></th>\n",
       "    </tr>\n",
       "  </thead>\n",
       "  <tbody>\n",
       "    <tr>\n",
       "      <th>2021-12-17 13:00:00</th>\n",
       "      <td>31.865</td>\n",
       "      <td>48.250000</td>\n",
       "      <td>0.514201</td>\n",
       "    </tr>\n",
       "    <tr>\n",
       "      <th>2021-12-17 14:00:00</th>\n",
       "      <td>34.200</td>\n",
       "      <td>47.333333</td>\n",
       "      <td>0.384016</td>\n",
       "    </tr>\n",
       "    <tr>\n",
       "      <th>2021-12-17 15:00:00</th>\n",
       "      <td>31.200</td>\n",
       "      <td>45.333333</td>\n",
       "      <td>0.452991</td>\n",
       "    </tr>\n",
       "    <tr>\n",
       "      <th>2021-12-17 16:00:00</th>\n",
       "      <td>34.600</td>\n",
       "      <td>55.250000</td>\n",
       "      <td>0.596821</td>\n",
       "    </tr>\n",
       "    <tr>\n",
       "      <th>2021-12-17 17:00:00</th>\n",
       "      <td>43.600</td>\n",
       "      <td>72.750000</td>\n",
       "      <td>0.668578</td>\n",
       "    </tr>\n",
       "  </tbody>\n",
       "</table>\n",
       "</div>"
      ],
      "text/plain": [
       "                     Reference     Sensor      diff\n",
       "Timestamp                                          \n",
       "2021-12-17 13:00:00     31.865  48.250000  0.514201\n",
       "2021-12-17 14:00:00     34.200  47.333333  0.384016\n",
       "2021-12-17 15:00:00     31.200  45.333333  0.452991\n",
       "2021-12-17 16:00:00     34.600  55.250000  0.596821\n",
       "2021-12-17 17:00:00     43.600  72.750000  0.668578"
      ]
     },
     "execution_count": 5,
     "metadata": {},
     "output_type": "execute_result"
    }
   ],
   "source": [
    "df.set_index('Timestamp', inplace=True)\n",
    "df.head()"
   ]
  },
  {
   "cell_type": "code",
   "execution_count": 6,
   "metadata": {},
   "outputs": [
    {
     "name": "stdout",
     "output_type": "stream",
     "text": [
      "df.shape = (4980, 3)\n",
      "df1_shape = (8627, 3)\n"
     ]
    }
   ],
   "source": [
    "print(f\"df.shape = {df.shape}\")\n",
    "df_1 = df.resample('H').asfreq()\n",
    "print(f\"df1_shape = {df_1.shape}\")"
   ]
  },
  {
   "cell_type": "code",
   "execution_count": 7,
   "metadata": {},
   "outputs": [
    {
     "data": {
      "text/plain": [
       "DatetimeIndex(['2021-12-17 13:00:00', '2021-12-17 14:00:00',\n",
       "               '2021-12-17 15:00:00', '2021-12-17 16:00:00',\n",
       "               '2021-12-17 17:00:00', '2021-12-17 18:00:00',\n",
       "               '2021-12-17 19:00:00', '2021-12-17 20:00:00',\n",
       "               '2021-12-17 21:00:00', '2021-12-17 22:00:00',\n",
       "               ...\n",
       "               '2022-12-11 14:00:00', '2022-12-11 15:00:00',\n",
       "               '2022-12-11 16:00:00', '2022-12-11 17:00:00',\n",
       "               '2022-12-11 18:00:00', '2022-12-11 19:00:00',\n",
       "               '2022-12-11 20:00:00', '2022-12-11 21:00:00',\n",
       "               '2022-12-11 22:00:00', '2022-12-11 23:00:00'],\n",
       "              dtype='datetime64[ns]', name='Timestamp', length=8627, freq='H')"
      ]
     },
     "execution_count": 7,
     "metadata": {},
     "output_type": "execute_result"
    }
   ],
   "source": [
    "df_1.index"
   ]
  },
  {
   "cell_type": "code",
   "execution_count": 46,
   "metadata": {},
   "outputs": [],
   "source": [
    "df_1.to_csv('df_1.csv', index=True)"
   ]
  },
  {
   "cell_type": "code",
   "execution_count": 8,
   "metadata": {},
   "outputs": [
    {
     "data": {
      "text/html": [
       "<div>\n",
       "<style scoped>\n",
       "    .dataframe tbody tr th:only-of-type {\n",
       "        vertical-align: middle;\n",
       "    }\n",
       "\n",
       "    .dataframe tbody tr th {\n",
       "        vertical-align: top;\n",
       "    }\n",
       "\n",
       "    .dataframe thead th {\n",
       "        text-align: right;\n",
       "    }\n",
       "</style>\n",
       "<table border=\"1\" class=\"dataframe\">\n",
       "  <thead>\n",
       "    <tr style=\"text-align: right;\">\n",
       "      <th></th>\n",
       "      <th>Sensor</th>\n",
       "    </tr>\n",
       "    <tr>\n",
       "      <th>Timestamp</th>\n",
       "      <th></th>\n",
       "    </tr>\n",
       "  </thead>\n",
       "  <tbody>\n",
       "    <tr>\n",
       "      <th>2021-12-17 13:00:00</th>\n",
       "      <td>48.250000</td>\n",
       "    </tr>\n",
       "    <tr>\n",
       "      <th>2021-12-17 14:00:00</th>\n",
       "      <td>47.333333</td>\n",
       "    </tr>\n",
       "    <tr>\n",
       "      <th>2021-12-17 15:00:00</th>\n",
       "      <td>45.333333</td>\n",
       "    </tr>\n",
       "    <tr>\n",
       "      <th>2021-12-17 16:00:00</th>\n",
       "      <td>55.250000</td>\n",
       "    </tr>\n",
       "    <tr>\n",
       "      <th>2021-12-17 17:00:00</th>\n",
       "      <td>72.750000</td>\n",
       "    </tr>\n",
       "  </tbody>\n",
       "</table>\n",
       "</div>"
      ],
      "text/plain": [
       "                        Sensor\n",
       "Timestamp                     \n",
       "2021-12-17 13:00:00  48.250000\n",
       "2021-12-17 14:00:00  47.333333\n",
       "2021-12-17 15:00:00  45.333333\n",
       "2021-12-17 16:00:00  55.250000\n",
       "2021-12-17 17:00:00  72.750000"
      ]
     },
     "execution_count": 8,
     "metadata": {},
     "output_type": "execute_result"
    }
   ],
   "source": [
    "x = df_1[['Sensor']]\n",
    "x.head()"
   ]
  },
  {
   "cell_type": "code",
   "execution_count": 9,
   "metadata": {},
   "outputs": [
    {
     "data": {
      "text/plain": [
       "Sensor    3647\n",
       "dtype: int64"
      ]
     },
     "execution_count": 9,
     "metadata": {},
     "output_type": "execute_result"
    }
   ],
   "source": [
    "x.isnull().sum()"
   ]
  },
  {
   "cell_type": "code",
   "execution_count": 19,
   "metadata": {},
   "outputs": [],
   "source": [
    "x_1 = x.interpolate(method='time')"
   ]
  },
  {
   "cell_type": "code",
   "execution_count": null,
   "metadata": {},
   "outputs": [],
   "source": [
    "x_1.to_csv('x_1.csv', index=True)"
   ]
  },
  {
   "cell_type": "code",
   "execution_count": 53,
   "metadata": {},
   "outputs": [
    {
     "name": "stderr",
     "output_type": "stream",
     "text": [
      "/Users/arnav39/Desktop/project1/venv/lib/python3.10/site-packages/pandas/core/frame.py:4462: SettingWithCopyWarning: \n",
      "A value is trying to be set on a copy of a slice from a DataFrame\n",
      "\n",
      "See the caveats in the documentation: https://pandas.pydata.org/pandas-docs/stable/user_guide/indexing.html#returning-a-view-versus-a-copy\n",
      "  return super().fillna(\n"
     ]
    },
    {
     "data": {
      "text/plain": [
       "Sensor    0\n",
       "dtype: int64"
      ]
     },
     "execution_count": 53,
     "metadata": {},
     "output_type": "execute_result"
    }
   ],
   "source": [
    "x.fillna(0, inplace=True)\n",
    "x.isnull().sum()"
   ]
  },
  {
   "cell_type": "code",
   "execution_count": 55,
   "metadata": {},
   "outputs": [
    {
     "name": "stderr",
     "output_type": "stream",
     "text": [
      "/var/folders/nk/gxdrmky141939n91br_2qdlh0000gn/T/ipykernel_40284/1548751907.py:1: SettingWithCopyWarning: \n",
      "A value is trying to be set on a copy of a slice from a DataFrame.\n",
      "Try using .loc[row_indexer,col_indexer] = value instead\n",
      "\n",
      "See the caveats in the documentation: https://pandas.pydata.org/pandas-docs/stable/user_guide/indexing.html#returning-a-view-versus-a-copy\n",
      "  x['diff_order_1'] = x['Sensor'].diff()\n"
     ]
    },
    {
     "data": {
      "text/html": [
       "<div>\n",
       "<style scoped>\n",
       "    .dataframe tbody tr th:only-of-type {\n",
       "        vertical-align: middle;\n",
       "    }\n",
       "\n",
       "    .dataframe tbody tr th {\n",
       "        vertical-align: top;\n",
       "    }\n",
       "\n",
       "    .dataframe thead th {\n",
       "        text-align: right;\n",
       "    }\n",
       "</style>\n",
       "<table border=\"1\" class=\"dataframe\">\n",
       "  <thead>\n",
       "    <tr style=\"text-align: right;\">\n",
       "      <th></th>\n",
       "      <th>Sensor</th>\n",
       "      <th>diff_order_1</th>\n",
       "    </tr>\n",
       "    <tr>\n",
       "      <th>Timestamp</th>\n",
       "      <th></th>\n",
       "      <th></th>\n",
       "    </tr>\n",
       "  </thead>\n",
       "  <tbody>\n",
       "    <tr>\n",
       "      <th>2021-12-17 13:00:00</th>\n",
       "      <td>48.250000</td>\n",
       "      <td>NaN</td>\n",
       "    </tr>\n",
       "    <tr>\n",
       "      <th>2021-12-17 14:00:00</th>\n",
       "      <td>47.333333</td>\n",
       "      <td>-0.916667</td>\n",
       "    </tr>\n",
       "    <tr>\n",
       "      <th>2021-12-17 15:00:00</th>\n",
       "      <td>45.333333</td>\n",
       "      <td>-2.000000</td>\n",
       "    </tr>\n",
       "    <tr>\n",
       "      <th>2021-12-17 16:00:00</th>\n",
       "      <td>55.250000</td>\n",
       "      <td>9.916667</td>\n",
       "    </tr>\n",
       "    <tr>\n",
       "      <th>2021-12-17 17:00:00</th>\n",
       "      <td>72.750000</td>\n",
       "      <td>17.500000</td>\n",
       "    </tr>\n",
       "  </tbody>\n",
       "</table>\n",
       "</div>"
      ],
      "text/plain": [
       "                        Sensor  diff_order_1\n",
       "Timestamp                                   \n",
       "2021-12-17 13:00:00  48.250000           NaN\n",
       "2021-12-17 14:00:00  47.333333     -0.916667\n",
       "2021-12-17 15:00:00  45.333333     -2.000000\n",
       "2021-12-17 16:00:00  55.250000      9.916667\n",
       "2021-12-17 17:00:00  72.750000     17.500000"
      ]
     },
     "execution_count": 55,
     "metadata": {},
     "output_type": "execute_result"
    }
   ],
   "source": [
    "x['diff_order_1'] = x['Sensor'].diff()\n",
    "x.head()"
   ]
  },
  {
   "cell_type": "code",
   "execution_count": 58,
   "metadata": {},
   "outputs": [
    {
     "data": {
      "image/png": "[encoded data removed]",
      "text/plain": [
       "<Figure size 2000x1000 with 1 Axes>"
      ]
     },
     "metadata": {},
     "output_type": "display_data"
    }
   ],
   "source": [
    "x['diff_order_1'].plot(figsize=(20, 10))\n",
    "plt.savefig('diff_order_1.png')"
   ]
  },
  {
   "cell_type": "code",
   "execution_count": 66,
   "metadata": {},
   "outputs": [
    {
     "name": "stdout",
     "output_type": "stream",
     "text": [
      "293.25\n"
     ]
    }
   ],
   "source": [
    "max_idx = x.diff_order_1.max()\n",
    "print(max_idx)"
   ]
  },
  {
   "cell_type": "code",
   "execution_count": 68,
   "metadata": {},
   "outputs": [
    {
     "data": {
      "text/html": [
       "<div>\n",
       "<style scoped>\n",
       "    .dataframe tbody tr th:only-of-type {\n",
       "        vertical-align: middle;\n",
       "    }\n",
       "\n",
       "    .dataframe tbody tr th {\n",
       "        vertical-align: top;\n",
       "    }\n",
       "\n",
       "    .dataframe thead th {\n",
       "        text-align: right;\n",
       "    }\n",
       "</style>\n",
       "<table border=\"1\" class=\"dataframe\">\n",
       "  <thead>\n",
       "    <tr style=\"text-align: right;\">\n",
       "      <th></th>\n",
       "      <th>Sensor</th>\n",
       "      <th>diff_order_1</th>\n",
       "    </tr>\n",
       "    <tr>\n",
       "      <th>Timestamp</th>\n",
       "      <th></th>\n",
       "      <th></th>\n",
       "    </tr>\n",
       "  </thead>\n",
       "  <tbody>\n",
       "    <tr>\n",
       "      <th>2021-12-28 21:00:00</th>\n",
       "      <td>293.25</td>\n",
       "      <td>293.25</td>\n",
       "    </tr>\n",
       "  </tbody>\n",
       "</table>\n",
       "</div>"
      ],
      "text/plain": [
       "                     Sensor  diff_order_1\n",
       "Timestamp                                \n",
       "2021-12-28 21:00:00  293.25        293.25"
      ]
     },
     "execution_count": 68,
     "metadata": {},
     "output_type": "execute_result"
    }
   ],
   "source": [
    "x[x['diff_order_1'] == 293.25]"
   ]
  }
 ],
 "metadata": {
  "kernelspec": {
   "display_name": "venv",
   "language": "python",
   "name": "python3"
  },
  "language_info": {
   "codemirror_mode": {
    "name": "ipython",
    "version": 3
   },
   "file_extension": ".py",
   "mimetype": "text/x-python",
   "name": "python",
   "nbconvert_exporter": "python",
   "pygments_lexer": "ipython3",
   "version": "3.10.8"
  },
  "orig_nbformat": 4
 },
 "nbformat": 4,
 "nbformat_minor": 2
}
