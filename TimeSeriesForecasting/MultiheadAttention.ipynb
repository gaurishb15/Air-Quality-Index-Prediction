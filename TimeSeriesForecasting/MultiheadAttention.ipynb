{
 "cells": [
  {
   "cell_type": "code",
   "execution_count": 55,
   "id": "5f4c4dd6",
   "metadata": {},
   "outputs": [],
   "source": [
    "import torch\n",
    "import numpy as np\n",
    "import pandas as pd\n",
    "from sklearn.model_selection import train_test_split\n",
    "import time\n",
    "import matplotlib.pyplot as plt"
   ]
  },
  {
   "cell_type": "code",
   "execution_count": 56,
   "id": "6f7ff45f",
   "metadata": {},
   "outputs": [
    {
     "data": {
      "text/html": [
       "<div>\n",
       "<style scoped>\n",
       "    .dataframe tbody tr th:only-of-type {\n",
       "        vertical-align: middle;\n",
       "    }\n",
       "\n",
       "    .dataframe tbody tr th {\n",
       "        vertical-align: top;\n",
       "    }\n",
       "\n",
       "    .dataframe thead th {\n",
       "        text-align: right;\n",
       "    }\n",
       "</style>\n",
       "<table border=\"1\" class=\"dataframe\">\n",
       "  <thead>\n",
       "    <tr style=\"text-align: right;\">\n",
       "      <th></th>\n",
       "      <th>Reference</th>\n",
       "      <th>Sensor</th>\n",
       "    </tr>\n",
       "    <tr>\n",
       "      <th>Timestamp</th>\n",
       "      <th></th>\n",
       "      <th></th>\n",
       "    </tr>\n",
       "  </thead>\n",
       "  <tbody>\n",
       "    <tr>\n",
       "      <th>17-12-2021 11:00</th>\n",
       "      <td>38.1400</td>\n",
       "      <td>61.00</td>\n",
       "    </tr>\n",
       "    <tr>\n",
       "      <th>17-12-2021 12:00</th>\n",
       "      <td>33.6825</td>\n",
       "      <td>57.50</td>\n",
       "    </tr>\n",
       "    <tr>\n",
       "      <th>17-12-2021 13:00</th>\n",
       "      <td>31.4075</td>\n",
       "      <td>53.75</td>\n",
       "    </tr>\n",
       "    <tr>\n",
       "      <th>17-12-2021 14:00</th>\n",
       "      <td>30.3500</td>\n",
       "      <td>54.25</td>\n",
       "    </tr>\n",
       "    <tr>\n",
       "      <th>17-12-2021 15:00</th>\n",
       "      <td>31.4350</td>\n",
       "      <td>56.25</td>\n",
       "    </tr>\n",
       "  </tbody>\n",
       "</table>\n",
       "</div>"
      ],
      "text/plain": [
       "                  Reference  Sensor\n",
       "Timestamp                          \n",
       "17-12-2021 11:00    38.1400   61.00\n",
       "17-12-2021 12:00    33.6825   57.50\n",
       "17-12-2021 13:00    31.4075   53.75\n",
       "17-12-2021 14:00    30.3500   54.25\n",
       "17-12-2021 15:00    31.4350   56.25"
      ]
     },
     "execution_count": 56,
     "metadata": {},
     "output_type": "execute_result"
    }
   ],
   "source": [
    "d1 = pd.read_csv(\"LKO collocated sites data/1. BR Ambedkar_Dec2021_Nov2022.csv\", index_col='Timestamp')\n",
    "d1.head()"
   ]
  },
  {
   "cell_type": "code",
   "execution_count": 57,
   "id": "e0108239",
   "metadata": {},
   "outputs": [
    {
     "data": {
      "text/html": [
       "<div>\n",
       "<style scoped>\n",
       "    .dataframe tbody tr th:only-of-type {\n",
       "        vertical-align: middle;\n",
       "    }\n",
       "\n",
       "    .dataframe tbody tr th {\n",
       "        vertical-align: top;\n",
       "    }\n",
       "\n",
       "    .dataframe thead th {\n",
       "        text-align: right;\n",
       "    }\n",
       "</style>\n",
       "<table border=\"1\" class=\"dataframe\">\n",
       "  <thead>\n",
       "    <tr style=\"text-align: right;\">\n",
       "      <th></th>\n",
       "      <th>Sensor</th>\n",
       "    </tr>\n",
       "    <tr>\n",
       "      <th>Timestamp</th>\n",
       "      <th></th>\n",
       "    </tr>\n",
       "  </thead>\n",
       "  <tbody>\n",
       "    <tr>\n",
       "      <th>17-12-2021 11:00</th>\n",
       "      <td>61.00</td>\n",
       "    </tr>\n",
       "    <tr>\n",
       "      <th>17-12-2021 12:00</th>\n",
       "      <td>57.50</td>\n",
       "    </tr>\n",
       "    <tr>\n",
       "      <th>17-12-2021 13:00</th>\n",
       "      <td>53.75</td>\n",
       "    </tr>\n",
       "    <tr>\n",
       "      <th>17-12-2021 14:00</th>\n",
       "      <td>54.25</td>\n",
       "    </tr>\n",
       "    <tr>\n",
       "      <th>17-12-2021 15:00</th>\n",
       "      <td>56.25</td>\n",
       "    </tr>\n",
       "    <tr>\n",
       "      <th>...</th>\n",
       "      <td>...</td>\n",
       "    </tr>\n",
       "    <tr>\n",
       "      <th>30-11-2022 19:00</th>\n",
       "      <td>106.00</td>\n",
       "    </tr>\n",
       "    <tr>\n",
       "      <th>30-11-2022 20:00</th>\n",
       "      <td>142.75</td>\n",
       "    </tr>\n",
       "    <tr>\n",
       "      <th>30-11-2022 21:00</th>\n",
       "      <td>133.25</td>\n",
       "    </tr>\n",
       "    <tr>\n",
       "      <th>30-11-2022 22:00</th>\n",
       "      <td>140.75</td>\n",
       "    </tr>\n",
       "    <tr>\n",
       "      <th>30-11-2022 23:00</th>\n",
       "      <td>143.50</td>\n",
       "    </tr>\n",
       "  </tbody>\n",
       "</table>\n",
       "<p>6213 rows × 1 columns</p>\n",
       "</div>"
      ],
      "text/plain": [
       "                  Sensor\n",
       "Timestamp               \n",
       "17-12-2021 11:00   61.00\n",
       "17-12-2021 12:00   57.50\n",
       "17-12-2021 13:00   53.75\n",
       "17-12-2021 14:00   54.25\n",
       "17-12-2021 15:00   56.25\n",
       "...                  ...\n",
       "30-11-2022 19:00  106.00\n",
       "30-11-2022 20:00  142.75\n",
       "30-11-2022 21:00  133.25\n",
       "30-11-2022 22:00  140.75\n",
       "30-11-2022 23:00  143.50\n",
       "\n",
       "[6213 rows x 1 columns]"
      ]
     },
     "execution_count": 57,
     "metadata": {},
     "output_type": "execute_result"
    }
   ],
   "source": [
    "d1.drop(['Reference'], axis=1, inplace=True)\n",
    "d1"
   ]
  },
  {
   "cell_type": "code",
   "execution_count": 58,
   "id": "4840e137",
   "metadata": {},
   "outputs": [
    {
     "name": "stdout",
     "output_type": "stream",
     "text": [
      "<class 'pandas.core.frame.DataFrame'>\n",
      "Index: 6213 entries, 17-12-2021 11:00 to 30-11-2022 23:00\n",
      "Data columns (total 1 columns):\n",
      " #   Column  Non-Null Count  Dtype  \n",
      "---  ------  --------------  -----  \n",
      " 0   Sensor  6213 non-null   float64\n",
      "dtypes: float64(1)\n",
      "memory usage: 97.1+ KB\n"
     ]
    }
   ],
   "source": [
    "d1.info()\n",
    "data = d1.values"
   ]
  },
  {
   "cell_type": "code",
   "execution_count": 59,
   "id": "761440b3",
   "metadata": {},
   "outputs": [
    {
     "data": {
      "text/plain": [
       "array([[ 61.  ],\n",
       "       [ 57.5 ],\n",
       "       [ 53.75],\n",
       "       ...,\n",
       "       [133.25],\n",
       "       [140.75],\n",
       "       [143.5 ]])"
      ]
     },
     "execution_count": 59,
     "metadata": {},
     "output_type": "execute_result"
    }
   ],
   "source": [
    "data"
   ]
  },
  {
   "cell_type": "code",
   "execution_count": 60,
   "id": "5e767cf3",
   "metadata": {},
   "outputs": [],
   "source": [
    "def split_dataset_into_seq(dataset, start_index=0, end_index=None, history_size=13, step=1):\n",
    "    '''split the dataset to have sequence of observations of length history size'''\n",
    "    data = []\n",
    "    start_index = start_index + history_size\n",
    "    if end_index is None:\n",
    "        end_index = len(dataset)\n",
    "    for i in range(start_index, end_index):\n",
    "        indices = range(i - history_size, i, step)\n",
    "        data.append(dataset[indices])\n",
    "    return np.array(data)"
   ]
  },
  {
   "cell_type": "code",
   "execution_count": 63,
   "id": "d6c0d9e8",
   "metadata": {},
   "outputs": [],
   "source": [
    "def split_dataset(data, TRAIN_SPLIT=0.7, VAL_SPLIT=0.5, save_path=None):\n",
    "\n",
    "    data_mean = data.mean(axis=0)\n",
    "    data_std = data.std(axis=0)\n",
    "    data = (data - data_mean) / data_std\n",
    "    stats = (data_mean, data_std)\n",
    "\n",
    "    data_in_seq = split_dataset_into_seq(data, start_index=0, end_index=None, history_size=13, step=1)\n",
    "\n",
    "    train_data, val_data = train_test_split(data_in_seq, train_size=TRAIN_SPLIT, shuffle=False, random_state=123)\n",
    "    val_data, test_data = train_test_split(val_data, train_size=VAL_SPLIT, shuffle=False, random_state=123)\n",
    "\n",
    "    return train_data, val_data, test_data"
   ]
  },
  {
   "cell_type": "code",
   "execution_count": 64,
   "id": "b59fb8c1",
   "metadata": {},
   "outputs": [
    {
     "name": "stdout",
     "output_type": "stream",
     "text": [
      "device = cpu\n"
     ]
    }
   ],
   "source": [
    "device = torch.device(\"cpu\")\n",
    "print(f\"device = {device}\")"
   ]
  },
  {
   "cell_type": "code",
   "execution_count": 65,
   "id": "50202701",
   "metadata": {},
   "outputs": [],
   "source": [
    "def split_fn(chunk):\n",
    "    inputs = torch.tensor(chunk[:, :-1, :], device=device)\n",
    "    targets = torch.tensor(chunk[:, 1:, :], device=device)\n",
    "    return inputs.float(), targets.float()"
   ]
  },
  {
   "cell_type": "code",
   "execution_count": 66,
   "id": "4b6fb3d9",
   "metadata": {},
   "outputs": [],
   "source": [
    "def data_to_dataset(train_data, val_data, test_data, batch_size=8):\n",
    "    x_train, y_train = split_fn(train_data)\n",
    "    x_val, y_val = split_fn(val_data)\n",
    "    x_test, y_test = split_fn(test_data)\n",
    "    train_dataset = torch.utils.data.TensorDataset(x_train, y_train)\n",
    "    val_dataset = torch.utils.data.TensorDataset(x_val, y_val)\n",
    "    test_dataset = torch.utils.data.TensorDataset(x_test, y_test)\n",
    "\n",
    "    train_loader = torch.utils.data.DataLoader(train_dataset, batch_size=batch_size)\n",
    "    val_loader = torch.utils.data.DataLoader(val_dataset, batch_size=batch_size)\n",
    "    test_loader = torch.utils.data.DataLoader(test_dataset, batch_size=batch_size)\n",
    "    return train_loader, val_loader, test_loader"
   ]
  },
  {
   "cell_type": "code",
   "execution_count": 69,
   "id": "97b34103",
   "metadata": {},
   "outputs": [],
   "source": [
    "train_data, val_data, test_data = split_dataset(data)\n",
    "train_dataset, val_dataset, test_dataset = data_to_dataset(train_data, val_data, test_data)"
   ]
  },
  {
   "cell_type": "code",
   "execution_count": 70,
   "id": "ad8202c1",
   "metadata": {},
   "outputs": [
    {
     "data": {
      "text/plain": [
       "((4340, 13, 1), (930, 13, 1), (930, 13, 1))"
      ]
     },
     "execution_count": 70,
     "metadata": {},
     "output_type": "execute_result"
    }
   ],
   "source": [
    "train_data.shape, val_data.shape, test_data.shape"
   ]
  },
  {
   "cell_type": "code",
   "execution_count": 71,
   "id": "43acbc16",
   "metadata": {},
   "outputs": [
    {
     "name": "stdout",
     "output_type": "stream",
     "text": [
      "torch.Size([8, 12, 1])\n",
      "torch.Size([8, 12, 1])\n"
     ]
    }
   ],
   "source": [
    "for x, y in train_dataset:\n",
    "    print(x.shape)\n",
    "    print(y.shape)\n",
    "    break"
   ]
  },
  {
   "cell_type": "code",
   "execution_count": 72,
   "id": "5e02bd09",
   "metadata": {},
   "outputs": [],
   "source": [
    "import torch.nn as nn\n",
    "import math\n",
    "\n",
    "class MultiHeadAttention(nn.Module):\n",
    "\n",
    "    def __init__(self, D, H):\n",
    "        super(MultiHeadAttention, self).__init__()\n",
    "        self.H = H # number of heads\n",
    "        self.D = D # dimension\n",
    "        \n",
    "        self.wq = nn.Linear(D, D*H)\n",
    "        self.wk = nn.Linear(D, D*H)\n",
    "        self.wv = nn.Linear(D, D*H)\n",
    "\n",
    "        self.dense = nn.Linear(D*H, D)\n",
    "\n",
    "    def concat_heads(self, x):\n",
    "\n",
    "        B, H, S, D = x.shape\n",
    "        x = x.permute((0, 2, 1, 3)).contiguous()  # (B, S, H, D)\n",
    "        x = x.reshape((B, S, H*D))   # (B, S, D*H)\n",
    "        return x.float()\n",
    "\n",
    "    def split_heads(self, x):\n",
    "\n",
    "        B, S, D_H = x.shape\n",
    "        x = x.reshape(B, S, self.H, self.D)    # (B, S, H, D)\n",
    "        x = x.permute((0, 2, 1, 3))  # (B, H, S, D)\n",
    "        return x.float()\n",
    "\n",
    "    def forward(self, x, mask):\n",
    "\n",
    "        q = self.wq(x)  # (B, S, D*H)\n",
    "        k = self.wk(x)  # (B, S, D*H)\n",
    "        v = self.wv(x)  # (B, S, D*H)\n",
    "\n",
    "        q = self.split_heads(q)  # (B, H, S, D)\n",
    "        k = self.split_heads(k)  # (B, H, S, D)\n",
    "        v = self.split_heads(v)  # (B, H, S, D)\n",
    "\n",
    "        attention_scores = torch.matmul(q, k.transpose(-1, -2)) #(B,H,S,S)\n",
    "        attention_scores = attention_scores / math.sqrt(self.D)\n",
    "\n",
    "        \n",
    "        if mask is not None:\n",
    "            attention_scores += (mask * -1e9)\n",
    "        \n",
    "        attention_weights = nn.Softmax(dim=-1)(attention_scores)\n",
    "        scaled_attention = torch.matmul(attention_weights, v)  # (B, H, S, D)\n",
    "        concat_attention = self.concat_heads(scaled_attention) # (B, S, D*H)\n",
    "        output = self.dense(concat_attention)  # (B, S, D)\n",
    "\n",
    "        return output.float(), attention_weights.float()"
   ]
  },
  {
   "cell_type": "code",
   "execution_count": 73,
   "id": "dc102517",
   "metadata": {},
   "outputs": [
    {
     "data": {
      "text/plain": [
       "(torch.Size([9, 11, 8]), torch.Size([9, 5, 11, 11]))"
      ]
     },
     "execution_count": 73,
     "metadata": {},
     "output_type": "execute_result"
    }
   ],
   "source": [
    "B, S, H, D = 9, 11, 5, 8\n",
    "mha = MultiHeadAttention(D, H)\n",
    "out, att = mha.forward(torch.zeros(B, S, D), mask=None)\n",
    "out.shape, att.shape"
   ]
  },
  {
   "cell_type": "code",
   "execution_count": 74,
   "id": "11192afc",
   "metadata": {},
   "outputs": [],
   "source": [
    "\n",
    "def get_angles(pos, i, D):\n",
    "    angle_rates = 1 / np.power(10000, (2 * (i // 2)) / np.float32(D))\n",
    "    return pos * angle_rates\n",
    "\n",
    "\n",
    "def positional_encoding(D, position=20, dim=3, device=device):\n",
    "    angle_rads = get_angles(np.arange(position)[:, np.newaxis],\n",
    "                            np.arange(D)[np.newaxis, :],\n",
    "                            D)\n",
    "\n",
    "    angle_rads[:, 0::2] = np.sin(angle_rads[:, 0::2])\n",
    "\n",
    "    angle_rads[:, 1::2] = np.cos(angle_rads[:, 1::2])\n",
    "    if dim == 3:\n",
    "        pos_encoding = angle_rads[np.newaxis, ...]\n",
    "    elif dim == 4:\n",
    "        pos_encoding = angle_rads[np.newaxis,np.newaxis,  ...]\n",
    "    return torch.tensor(pos_encoding, device=device)"
   ]
  },
  {
   "cell_type": "code",
   "execution_count": 75,
   "id": "7e86403d",
   "metadata": {},
   "outputs": [],
   "source": [
    "\n",
    "def create_look_ahead_mask(size, device=device):\n",
    "    mask = torch.ones((size, size), device=device)\n",
    "    mask = torch.triu(mask, diagonal=1)\n",
    "    return mask.float()  # (size, size)"
   ]
  },
  {
   "cell_type": "code",
   "execution_count": 76,
   "id": "ff856288",
   "metadata": {},
   "outputs": [
    {
     "data": {
      "text/plain": [
       "tensor([[0., 1., 1., 1., 1., 1.],\n",
       "        [0., 0., 1., 1., 1., 1.],\n",
       "        [0., 0., 0., 1., 1., 1.],\n",
       "        [0., 0., 0., 0., 1., 1.],\n",
       "        [0., 0., 0., 0., 0., 1.],\n",
       "        [0., 0., 0., 0., 0., 0.]])"
      ]
     },
     "execution_count": 76,
     "metadata": {},
     "output_type": "execute_result"
    }
   ],
   "source": [
    "create_look_ahead_mask(6)"
   ]
  },
  {
   "cell_type": "code",
   "execution_count": 77,
   "id": "9db5146a",
   "metadata": {},
   "outputs": [],
   "source": [
    "class TransformerLayer(nn.Module):\n",
    "    def __init__(self, D, H, hidden_mlp_dim, dropout_rate):\n",
    "        super(TransformerLayer, self).__init__()\n",
    "        self.dropout_rate = dropout_rate\n",
    "        self.mlp_hidden = nn.Linear(D, hidden_mlp_dim)\n",
    "        self.mlp_out = nn.Linear(hidden_mlp_dim, D)\n",
    "        self.layernorm1 = nn.LayerNorm(D, eps=1e-9)\n",
    "        self.layernorm2 = nn.LayerNorm(D, eps=1e-9)\n",
    "        self.dropout1 = nn.Dropout(dropout_rate)\n",
    "        self.dropout2 = nn.Dropout(dropout_rate)\n",
    "\n",
    "        self.mha = MultiHeadAttention(D, H)\n",
    "\n",
    "\n",
    "    def forward(self, x, look_ahead_mask):\n",
    "        \n",
    "        attn, attn_weights = self.mha(x, look_ahead_mask)  # (B, S, D)\n",
    "        attn = self.dropout1(attn) # (B,S,D)\n",
    "        attn = self.layernorm1(attn + x) # (B,S,D)\n",
    "\n",
    "        mlp_act = torch.relu(self.mlp_hidden(attn))\n",
    "        mlp_act = self.mlp_out(mlp_act)\n",
    "        mlp_act = self.dropout2(mlp_act)\n",
    "        \n",
    "        output = self.layernorm2(mlp_act + attn)  # (B, S, D)\n",
    "\n",
    "        return output, attn_weights"
   ]
  },
  {
   "cell_type": "code",
   "execution_count": 78,
   "id": "848e0382",
   "metadata": {},
   "outputs": [
    {
     "data": {
      "text/plain": [
       "(torch.Size([5, 7, 16]), torch.Size([5, 3, 7, 7]))"
      ]
     },
     "execution_count": 78,
     "metadata": {},
     "output_type": "execute_result"
    }
   ],
   "source": [
    "dl = TransformerLayer(16, 3, 32, 0.1)\n",
    "out, attn = dl(x=torch.zeros(5, 7, 16), look_ahead_mask=None)\n",
    "out.shape, attn.shape"
   ]
  },
  {
   "cell_type": "code",
   "execution_count": 79,
   "id": "b519bbf6",
   "metadata": {},
   "outputs": [],
   "source": [
    "class Transformer(nn.Module):\n",
    "    '''Transformer Decoder Implementating several Decoder Layers.\n",
    "    '''\n",
    "    def __init__(self, num_layers, D, H, hidden_mlp_dim, inp_features, out_features, dropout_rate):\n",
    "        super(Transformer, self).__init__()\n",
    "        self.sqrt_D = torch.tensor(math.sqrt(D))\n",
    "        self.num_layers = num_layers\n",
    "        self.input_projection = nn.Linear(inp_features, D) # multivariate input\n",
    "        self.output_projection = nn.Linear(D, out_features) # multivariate output\n",
    "        self.pos_encoding = positional_encoding(D)\n",
    "        self.dec_layers = nn.ModuleList([TransformerLayer(D, H, hidden_mlp_dim, \n",
    "                                    dropout_rate=dropout_rate\n",
    "                                       ) for _ in range(num_layers)])\n",
    "        self.dropout = nn.Dropout(dropout_rate)\n",
    "\n",
    "    def forward(self, x, mask):\n",
    "        B, S, D = x.shape\n",
    "        attention_weights = {}\n",
    "        x = self.input_projection(x)\n",
    "        x *= self.sqrt_D\n",
    "\n",
    "        x += self.pos_encoding[:, :S, :]\n",
    "\n",
    "        x = self.dropout(x)\n",
    "\n",
    "        for i in range(self.num_layers):\n",
    "            x, block = self.dec_layers[i](x=x,\n",
    "                                          look_ahead_mask=mask)\n",
    "            attention_weights['decoder_layer{}'.format(i + 1)] = block\n",
    "        \n",
    "        x = self.output_projection(x)\n",
    "        \n",
    "        return x, attention_weights # (B,S,S)"
   ]
  },
  {
   "cell_type": "code",
   "execution_count": 80,
   "id": "28f4639f",
   "metadata": {},
   "outputs": [
    {
     "data": {
      "text/plain": [
       "(torch.Size([8, 12, 1]), torch.Size([8, 1, 12, 12]))"
      ]
     },
     "execution_count": 80,
     "metadata": {},
     "output_type": "execute_result"
    }
   ],
   "source": [
    "\n",
    "transformer = Transformer(num_layers=1, D=32, H=1, hidden_mlp_dim=32,\n",
    "                                       inp_features=1, out_features=1, dropout_rate=0.1)\n",
    "transformer.to(device)\n",
    "(inputs, targets) = next(iter(train_dataset))\n",
    "                         \n",
    "S = inputs.shape[1]\n",
    "mask = create_look_ahead_mask(S)\n",
    "\n",
    "out, attn = transformer (x=inputs.float(), mask=mask.float())\n",
    "out.shape, attn[\"decoder_layer1\"].shape"
   ]
  },
  {
   "cell_type": "code",
   "execution_count": 81,
   "id": "7d6fcd02",
   "metadata": {},
   "outputs": [
    {
     "name": "stdout",
     "output_type": "stream",
     "text": [
      "number of weight/biases matrices: 20 for a total of 6561 parameters \n"
     ]
    }
   ],
   "source": [
    "param_sizes = [p.numel() for p in transformer.parameters()]\n",
    "print(f\"number of weight/biases matrices: {len(param_sizes)} \"\n",
    "      f\"for a total of {np.sum(param_sizes)} parameters \")"
   ]
  },
  {
   "cell_type": "code",
   "execution_count": 82,
   "id": "3232ac3e",
   "metadata": {},
   "outputs": [],
   "source": [
    "transformer = Transformer(num_layers=1, D=32, H=4, hidden_mlp_dim=32,\n",
    "                          inp_features=1, out_features=1, dropout_rate=0.1).to(device)\n",
    "optimizer = torch.optim.RMSprop(transformer.parameters(), \n",
    "                                lr=0.00005)"
   ]
  },
  {
   "cell_type": "code",
   "execution_count": 85,
   "id": "62aa07db",
   "metadata": {},
   "outputs": [
    {
     "name": "stdout",
     "output_type": "stream",
     "text": [
      "torch.Size([8, 12, 1])\n",
      "torch.Size([8, 12, 1])\n"
     ]
    }
   ],
   "source": [
    "for x, y in train_dataset:\n",
    "    print(x.shape)\n",
    "    print(y.shape)\n",
    "    break"
   ]
  },
  {
   "cell_type": "code",
   "execution_count": 89,
   "id": "31158897",
   "metadata": {},
   "outputs": [
    {
     "name": "stdout",
     "output_type": "stream",
     "text": [
      "torch.Size([8, 12, 1])\n",
      "torch.Size([8, 12, 1])\n"
     ]
    }
   ],
   "source": [
    "for x, y in val_dataset:\n",
    "    print(x.shape)\n",
    "    print(y.shape)\n",
    "    break"
   ]
  },
  {
   "cell_type": "code",
   "execution_count": 86,
   "id": "e84b8194",
   "metadata": {},
   "outputs": [],
   "source": [
    "m = create_look_ahead_mask(x.shape[1])\n",
    "o, _ = transformer(x.float(), mask.float())"
   ]
  },
  {
   "cell_type": "code",
   "execution_count": 90,
   "id": "ae850015",
   "metadata": {},
   "outputs": [
    {
     "name": "stdout",
     "output_type": "stream",
     "text": [
      "torch.Size([8, 12, 1])\n"
     ]
    }
   ],
   "source": [
    "print(o.shape)\n",
    "# print(o)"
   ]
  },
  {
   "cell_type": "code",
   "execution_count": 83,
   "id": "f179725f",
   "metadata": {},
   "outputs": [
    {
     "name": "stderr",
     "output_type": "stream",
     "text": [
      "100%|██████████| 20/20 [00:46<00:00,  2.32s/it]\n"
     ]
    }
   ],
   "source": [
    "from tqdm import tqdm\n",
    "\n",
    "n_epochs = 20\n",
    "niter = len(train_dataset)\n",
    "losses, val_losses = [], []\n",
    "\n",
    "for e in tqdm(range(n_epochs)):\n",
    "    \n",
    "    # one epoch on train set\n",
    "    transformer.train()\n",
    "    sum_train_loss = 0.0\n",
    "    for x,y in train_dataset:\n",
    "        S = x.shape[1]\n",
    "        mask = create_look_ahead_mask(S)\n",
    "        out, _ = transformer(x.float(), mask.float())\n",
    "        loss = torch.nn.MSELoss()(out, y)\n",
    "        sum_train_loss += loss.item()\n",
    "        loss.backward()\n",
    "        optimizer.step()\n",
    "    losses.append(sum_train_loss / niter)\n",
    "    \n",
    "    # Evaluate on val set\n",
    "    transformer.eval()\n",
    "    sum_val_loss = 0.0\n",
    "    for i, (x, y) in enumerate(val_dataset):\n",
    "        S = x.shape[1]\n",
    "        mask = create_look_ahead_mask(S)\n",
    "        out, _ = transformer(x.float(), mask.float())\n",
    "        loss = torch.nn.MSELoss()(out, y)\n",
    "        sum_val_loss += loss.item()\n",
    "    val_losses.append(sum_val_loss / (i + 1))"
   ]
  },
  {
   "cell_type": "code",
   "execution_count": 84,
   "id": "46934c21",
   "metadata": {},
   "outputs": [
    {
     "data": {
      "text/plain": [
       "torch.Size([2, 12, 1])"
      ]
     },
     "execution_count": 84,
     "metadata": {},
     "output_type": "execute_result"
    }
   ],
   "source": [
    "out.shape"
   ]
  },
  {
   "cell_type": "code",
   "execution_count": 91,
   "id": "f2b64ebf",
   "metadata": {},
   "outputs": [
    {
     "data": {
      "image/png": "[encoded data removed]",
      "text/plain": [
       "<Figure size 640x480 with 1 Axes>"
      ]
     },
     "metadata": {},
     "output_type": "display_data"
    }
   ],
   "source": [
    "plt.plot(losses, 'b-')\n",
    "plt.plot(val_losses, 'r--');"
   ]
  },
  {
   "cell_type": "code",
   "execution_count": 97,
   "id": "a604aedb",
   "metadata": {},
   "outputs": [
    {
     "name": "stdout",
     "output_type": "stream",
     "text": [
      "(930, 12, 1)\n",
      "(930, 12, 1)\n"
     ]
    },
    {
     "data": {
      "text/plain": [
       "0.12905142415696993"
      ]
     },
     "execution_count": 97,
     "metadata": {},
     "output_type": "execute_result"
    }
   ],
   "source": [
    "test_losses, test_preds, test_labels  = [], [], []\n",
    "transformer.eval()\n",
    "for (x, y) in test_dataset:\n",
    "    S = x.shape[-2]\n",
    "    y_pred, _ = transformer(x,\n",
    "                            mask=create_look_ahead_mask(S))\n",
    "    loss_test = torch.nn.MSELoss()(y_pred, y)  # (B,S)\n",
    "    test_losses.append(loss_test.item())\n",
    "    test_preds.append(y_pred.detach().cpu().numpy())\n",
    "    test_labels.append(y.cpu().numpy())\n",
    "\n",
    "    \n",
    "test_preds = np.vstack(test_preds)\n",
    "test_labels = np.vstack(test_labels)\n",
    "\n",
    "print(test_preds.shape)\n",
    "print(test_labels.shape)\n",
    "\n",
    "np.mean(test_losses)\n"
   ]
  },
  {
   "cell_type": "code",
   "execution_count": 98,
   "id": "2285b3ac",
   "metadata": {},
   "outputs": [],
   "source": [
    "from torchmetrics import R2Score"
   ]
  },
  {
   "cell_type": "code",
   "execution_count": 100,
   "id": "cb8c1efe",
   "metadata": {},
   "outputs": [],
   "source": [
    "r2 = R2Score(num_outputs=12)"
   ]
  },
  {
   "cell_type": "code",
   "execution_count": 104,
   "id": "97e1866c",
   "metadata": {},
   "outputs": [
    {
     "data": {
      "text/plain": [
       "0.7746930718421936"
      ]
     },
     "execution_count": 104,
     "metadata": {},
     "output_type": "execute_result"
    }
   ],
   "source": [
    "r2(torch.FloatTensor(test_preds).squeeze(2), torch.FloatTensor(test_labels).squeeze(2)).item()"
   ]
  },
  {
   "cell_type": "code",
   "execution_count": 118,
   "id": "2d402363",
   "metadata": {},
   "outputs": [
    {
     "name": "stdout",
     "output_type": "stream",
     "text": [
      "torch.Size([930])\n",
      "torch.Size([930])\n"
     ]
    },
    {
     "data": {
      "text/plain": [
       "0.7130229473114014"
      ]
     },
     "execution_count": 118,
     "metadata": {},
     "output_type": "execute_result"
    }
   ],
   "source": [
    "a1 = torch.FloatTensor(test_preds[:, 11]).view(-1)\n",
    "a2 = torch.FloatTensor(test_labels[:, 11]).view(-1)\n",
    "\n",
    "print(a1.shape)\n",
    "print(a2.shape)\n",
    "\n",
    "r2_0 = R2Score(num_outputs=1)\n",
    "r2_0(a1, a2).item()"
   ]
  },
  {
   "cell_type": "code",
   "execution_count": 124,
   "id": "ca9c377a",
   "metadata": {},
   "outputs": [
    {
     "data": {
      "image/png": "[encoded data removed]",
      "text/plain": [
       "<Figure size 640x480 with 1 Axes>"
      ]
     },
     "metadata": {},
     "output_type": "display_data"
    }
   ],
   "source": [
    "t = np.arange(400)\n",
    "plt.plot(t, a1.numpy()[:400], 'b--', label=\"predicted\")\n",
    "plt.plot(t, a2.numpy()[:400], 'r-', label=\"true values\")\n",
    "plt.legend();"
   ]
  },
  {
   "cell_type": "code",
   "execution_count": 27,
   "id": "2245649b",
   "metadata": {},
   "outputs": [],
   "source": [
    "# def polyfit(x, y, degree):\n",
    "#     results = {}\n",
    "\n",
    "#     coeffs = numpy.polyfit(x, y, degree)\n",
    "\n",
    "#      # Polynomial Coefficients\n",
    "#     results['polynomial'] = coeffs.tolist()\n",
    "\n",
    "#     # r-squared\n",
    "#     p = numpy.poly1d(coeffs)\n",
    "#     # fit values, and mean\n",
    "#     yhat = p(x)                         # or [p(z) for z in x]\n",
    "#     ybar = numpy.sum(y)/len(y)          # or sum(y)/len(y)\n",
    "#     ssreg = numpy.sum((yhat-ybar)**2)   # or sum([ (yihat - ybar)**2 for yihat in yhat])\n",
    "#     sstot = numpy.sum((y - ybar)**2)    # or sum([ (yi - ybar)**2 for yi in y])\n",
    "#     results['determination'] = ssreg / sstot\n",
    "\n",
    "#     return results"
   ]
  },
  {
   "cell_type": "code",
   "execution_count": 28,
   "id": "0b1b900c",
   "metadata": {},
   "outputs": [],
   "source": [
    "# sklearn.metrics.r2_score(y, test_preds)"
   ]
  },
  {
   "cell_type": "code",
   "execution_count": 50,
   "id": "482ad378",
   "metadata": {},
   "outputs": [
    {
     "data": {
      "image/png": "[encoded data removed]",
      "text/plain": [
       "<Figure size 640x480 with 1 Axes>"
      ]
     },
     "metadata": {},
     "output_type": "display_data"
    }
   ],
   "source": [
    "# Display predictions vs ground truth: \n",
    "# we'll take one random element of the first batch\n",
    "# and display the first feature\n",
    "seq_len = 12\n",
    "index = np.random.randint(32)\n",
    "feature_num = 0\n",
    "\n",
    "x_test, _ = test_dataset.dataset.tensors\n",
    "x_test = x_test[index, :, feature_num].cpu().numpy()\n",
    "pred = test_preds[index, :, feature_num]\n",
    "x = np.linspace(1, seq_len, seq_len)\n",
    "plt.plot(x, pred, 'red', lw=2, label='predictions for sample: {}'.format(index))\n",
    "plt.plot(x, x_test, 'cyan', lw=2, label='ground-truth for sample: {}'.format(index))\n",
    "plt.legend(fontsize=10)\n",
    "plt.show()\n"
   ]
  },
  {
   "cell_type": "code",
   "execution_count": 38,
   "id": "587287b0",
   "metadata": {},
   "outputs": [
    {
     "data": {
      "text/plain": [
       "(930, 12, 1)"
      ]
     },
     "execution_count": 38,
     "metadata": {},
     "output_type": "execute_result"
    }
   ],
   "source": [
    "test_preds.shape"
   ]
  },
  {
   "cell_type": "code",
   "execution_count": 53,
   "id": "dbde7505",
   "metadata": {},
   "outputs": [
    {
     "data": {
      "text/plain": [
       "(930, 13, 1)"
      ]
     },
     "execution_count": 53,
     "metadata": {},
     "output_type": "execute_result"
    }
   ],
   "source": [
    "test_data.shape"
   ]
  },
  {
   "cell_type": "code",
   "execution_count": 48,
   "id": "83e0871f",
   "metadata": {},
   "outputs": [
    {
     "data": {
      "text/plain": [
       "array([[[ 1.17674255e+00],\n",
       "        [ 1.48086596e+00],\n",
       "        [ 2.17753077e+00],\n",
       "        [ 3.34072661e+00],\n",
       "        [ 4.98956442e+00],\n",
       "        [ 5.68639469e+00],\n",
       "        [ 6.37907600e+00],\n",
       "        [ 6.08572865e+00],\n",
       "        [ 5.77660799e+00],\n",
       "        [ 5.61613846e+00],\n",
       "        [ 5.33323383e+00],\n",
       "        [ 4.85706615e+00]],\n",
       "\n",
       "       [[ 8.78063738e-01],\n",
       "        [ 7.45679617e-01],\n",
       "        [ 8.06937695e-01],\n",
       "        [ 1.14993322e+00],\n",
       "        [ 1.57554722e+00],\n",
       "        [ 9.53368425e-01],\n",
       "        [ 5.11386514e-01],\n",
       "        [ 2.79215455e-01],\n",
       "        [ 2.56855369e-01],\n",
       "        [-2.45237350e-03],\n",
       "        [-1.05181396e-01],\n",
       "        [-1.08304024e-01]]], dtype=float32)"
      ]
     },
     "execution_count": 48,
     "metadata": {},
     "output_type": "execute_result"
    }
   ],
   "source": [
    "test_preds[0:2, :, :]"
   ]
  },
  {
   "cell_type": "code",
   "execution_count": 49,
   "id": "fbb19eef",
   "metadata": {},
   "outputs": [
    {
     "data": {
      "text/plain": [
       "array([[[ 1.22403243],\n",
       "        [ 1.5417536 ],\n",
       "        [ 2.23752273],\n",
       "        [ 3.33547056],\n",
       "        [ 4.85168422],\n",
       "        [ 5.52734442],\n",
       "        [ 6.25930964],\n",
       "        [ 5.91343597],\n",
       "        [ 5.55147515],\n",
       "        [ 5.36245116],\n",
       "        [ 5.03266463],\n",
       "        [ 4.48167983],\n",
       "        [ 3.31938341]],\n",
       "\n",
       "       [[ 0.94652913],\n",
       "        [ 0.80576659],\n",
       "        [ 0.91837663],\n",
       "        [ 1.3245771 ],\n",
       "        [ 1.69860329],\n",
       "        [ 0.97468164],\n",
       "        [ 0.39956612],\n",
       "        [ 0.07782316],\n",
       "        [ 0.03760529],\n",
       "        [-0.01467794],\n",
       "        [-0.13533154],\n",
       "        [-0.14337512],\n",
       "        [-0.17152763]]])"
      ]
     },
     "execution_count": 49,
     "metadata": {},
     "output_type": "execute_result"
    }
   ],
   "source": [
    "test_data[0:2, :, :]"
   ]
  }
 ],
 "metadata": {
  "kernelspec": {
   "display_name": "Python 3 (ipykernel)",
   "language": "python",
   "name": "python3"
  },
  "language_info": {
   "codemirror_mode": {
    "name": "ipython",
    "version": 3
   },
   "file_extension": ".py",
   "mimetype": "text/x-python",
   "name": "python",
   "nbconvert_exporter": "python",
   "pygments_lexer": "ipython3",
   "version": "3.10.8"
  }
 },
 "nbformat": 4,
 "nbformat_minor": 5
}
