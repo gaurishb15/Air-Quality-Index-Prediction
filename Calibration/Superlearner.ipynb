{
  "cells": [
    {
      "cell_type": "code",
      "execution_count": 3,
      "metadata": {
        "id": "ScgCUBy9MuFU"
      },
      "outputs": [],
      "source": [
        "# example of a super learner model for regression\n",
        "from math import sqrt\n",
        "from numpy import hstack\n",
        "from numpy import vstack\n",
        "from numpy import asarray\n",
        "import numpy as np\n",
        "import pandas as pd\n",
        "import os\n",
        "import sys\n",
        "from tqdm.notebook import tqdm\n",
        "import pickle\n",
        "\n",
        "import matplotlib.pyplot as plt\n",
        "import seaborn as sns\n",
        "from geopy.distance import geodesic\n",
        "from geopy.point import Point\n",
        "from sklearn.datasets import make_regression\n",
        "from sklearn.model_selection import KFold\n",
        "from sklearn.model_selection import train_test_split\n",
        "from sklearn.metrics import mean_squared_error\n",
        "from sklearn.linear_model import LinearRegression\n",
        "from sklearn.linear_model import ElasticNet\n",
        "from sklearn.neighbors import KNeighborsRegressor\n",
        "from sklearn.tree import DecisionTreeRegressor\n",
        "from sklearn.svm import SVR\n",
        "from sklearn.ensemble import AdaBoostRegressor\n",
        "from sklearn.ensemble import BaggingRegressor\n",
        "from sklearn.ensemble import RandomForestRegressor\n",
        "from sklearn.ensemble import ExtraTreesRegressor\n",
        "from sklearn.ensemble import GradientBoostingRegressor"
      ]
    },
    {
      "cell_type": "code",
      "execution_count": 18,
      "metadata": {
        "id": "G1emPDuyYCTv"
      },
      "outputs": [],
      "source": [
        "with open('/content/final_dict.pkl', 'rb') as f:\n",
        "    final_dict = pickle.load(f)"
      ]
    },
    {
      "cell_type": "code",
      "execution_count": 19,
      "metadata": {
        "id": "JpdgMjCXMuFc"
      },
      "outputs": [],
      "source": [
        "# create a list of base-models\n",
        "def get_models():\n",
        "\tmodels = list()\n",
        "\tmodels.append(LinearRegression())\n",
        "\tmodels.append(SVR(gamma='scale'))\n",
        "\tmodels.append(KNeighborsRegressor())\n",
        "\tmodels.append(RandomForestRegressor(n_estimators=10))\n",
        "\tmodels.append(GradientBoostingRegressor())\n",
        "\treturn models"
      ]
    },
    {
      "cell_type": "code",
      "execution_count": 20,
      "metadata": {
        "id": "LyoPj_pMMuFd"
      },
      "outputs": [],
      "source": [
        "# collect out of fold predictions form k-fold cross validation\n",
        "def get_out_of_fold_predictions(X, y, models):\n",
        "\tmeta_X, meta_y = list(), list()\n",
        "\t# define split of data\n",
        "\tkfold = KFold(n_splits=10, shuffle=True)\n",
        "\t# enumerate splits\n",
        "\tfor train_ix, test_ix in kfold.split(X):\n",
        "\t\tfold_yhats = list()\n",
        "\t\t# get data\n",
        "\t\ttrain_X, test_X = X[train_ix], X[test_ix]\n",
        "\t\ttrain_y, test_y = y[train_ix], y[test_ix]\n",
        "\t\tmeta_y.extend(test_y)\n",
        "\t\t# fit and make predictions with each sub-model\n",
        "\t\tfor model in models:\n",
        "\t\t\tmodel.fit(train_X, train_y)\n",
        "\t\t\tyhat = model.predict(test_X)\n",
        "\t\t\t# store columns\n",
        "\t\t\tfold_yhats.append(yhat.reshape(len(yhat),1))\n",
        "\t\t# store fold yhats as columns\n",
        "\t\tmeta_X.append(hstack(fold_yhats))\n",
        "\treturn vstack(meta_X), asarray(meta_y)\n"
      ]
    },
    {
      "cell_type": "code",
      "execution_count": 21,
      "metadata": {
        "id": "ZPEM8tyaMuFd"
      },
      "outputs": [],
      "source": [
        "# fit all base models on the training dataset\n",
        "def fit_base_models(X, y, models):\n",
        "\tfor model in models:\n",
        "\t\tmodel.fit(X, y)\n",
        "\n",
        "# fit a meta model\n",
        "def fit_meta_model(X, y):\n",
        "\tmodel = LinearRegression()\n",
        "\tmodel.fit(X, y)\n",
        "\treturn model"
      ]
    },
    {
      "cell_type": "code",
      "execution_count": 22,
      "metadata": {
        "id": "eB_PAY3OMuFe"
      },
      "outputs": [],
      "source": [
        "# evaluate a list of models on a dataset\n",
        "def evaluate_models(X, y, models):\n",
        "\tfor model in models:\n",
        "\t\tyhat = model.predict(X)\n",
        "\t\tmse = mean_squared_error(y, yhat)\n",
        "\t\tprint('%s: RMSE %.3f' % (model.__class__.__name__, sqrt(mse)))\n",
        "\n",
        "# make predictions with stacked model\n",
        "def super_learner_predictions(X, models, meta_model):\n",
        "\tmeta_X = list()\n",
        "\tfor model in models:\n",
        "\t\tyhat = model.predict(X)\n",
        "\t\tmeta_X.append(yhat.reshape(len(yhat),1))\n",
        "\tmeta_X = hstack(meta_X)\n",
        "\t# predict\n",
        "\treturn meta_model.predict(meta_X)"
      ]
    },
    {
      "cell_type": "code",
      "execution_count": 23,
      "metadata": {
        "id": "Yyx-KHefSZ3t"
      },
      "outputs": [],
      "source": [
        "from sklearn import model_selection"
      ]
    },
    {
      "cell_type": "code",
      "execution_count": 30,
      "metadata": {
        "id": "dhHtq80OZDHA"
      },
      "outputs": [],
      "source": [
        "pm25_name_dict = {0: 'pm25_1211220109', 1: 'pm25_1212220023', 2: 'pm25_1212220165', 3: 'pm25_1212220169', 4: 'pm25_1201230044', 5: 'pm25_1210220027', 6: 'pm25_1212220159', 7: 'PM25_2CF4328C5AB4', 8: 'PM25.1_2CF4328C5BAD', 9: 'PM25.2_3083988F25D6', 10: 'PM25.3_5002914AB52D', 11: 'PM25.4_8CAAB56B9EAF', 12: 'PM25.5_E0980690FF7B', 13: 'PM25.6_F4CFA2D625EE'}"
      ]
    },
    {
      "cell_type": "code",
      "execution_count": 31,
      "metadata": {
        "colab": {
          "base_uri": "https://localhost:8080/"
        },
        "id": "GSHuJX04SA-h",
        "outputId": "f1cff1f7-7678-42fb-b948-a2a79d391710"
      },
      "outputs": [
        {
          "name": "stdout",
          "output_type": "stream",
          "text": [
            "num_rows = 13, num_columns = 6\n",
            "X_train.shape = (1104, 6), y_train.shape = (1104, 1)\n",
            "X_test.shape = (92, 6), y_test.shape = (92, 1)\n"
          ]
        }
      ],
      "source": [
        "num_rows, num_columns = final_dict[pm25_name_dict[0]]['2023-01-05 13:00:00']['X'].shape\n",
        "print(f\"num_rows = {num_rows}, num_columns = {num_columns}\")\n",
        "X_train, X_test = np.empty((0, num_columns), dtype=np.float32), np.empty((0, num_columns), dtype=np.float32)\n",
        "y_train, y_test = np.empty((0, 1), dtype=np.float32), np.empty((0, 1), dtype=np.float32)\n",
        "for key in final_dict[pm25_name_dict[0]].keys():\n",
        "\n",
        "    Xtrain, Xtest, ytrain, ytest = model_selection.train_test_split(final_dict[pm25_name_dict[0]][key]['X'],\n",
        "                                                                    final_dict[pm25_name_dict[0]][key]['y'],\n",
        "                                                                    test_size=1/13,\n",
        "                                                                    shuffle=True,\n",
        "                                                                    random_state=482)\n",
        "\n",
        "    X_train = np.concatenate((X_train, Xtrain), axis=0)\n",
        "    X_test = np.concatenate((X_test, Xtest), axis=0)\n",
        "    y_train = np.concatenate((y_train, ytrain), axis=0)\n",
        "    y_test = np.concatenate((y_test, ytest), axis=0)\n",
        "print(f\"X_train.shape = {X_train.shape}, y_train.shape = {y_train.shape}\")\n",
        "print(f\"X_test.shape = {X_test.shape}, y_test.shape = {y_test.shape}\")"
      ]
    },
    {
      "cell_type": "code",
      "execution_count": 32,
      "metadata": {
        "colab": {
          "base_uri": "https://localhost:8080/"
        },
        "id": "3vAxDY6xMuFe",
        "outputId": "9c7bf5d3-7050-48ac-aa3f-936c214f5bf8"
      },
      "outputs": [
        {
          "name": "stdout",
          "output_type": "stream",
          "text": [
            "Train (1104, 6) (1104, 1) Test (92, 6) (92, 1)\n"
          ]
        }
      ],
      "source": [
        "X, X_val, y, y_val = X_train,X_test,y_train,y_test\n",
        "print('Train', X.shape, y.shape, 'Test', X_val.shape, y_val.shape)"
      ]
    },
    {
      "cell_type": "code",
      "execution_count": 33,
      "metadata": {
        "id": "6kY5w74IMuFh"
      },
      "outputs": [],
      "source": [
        "# get models\n",
        "models = get_models()"
      ]
    },
    {
      "cell_type": "code",
      "execution_count": 34,
      "metadata": {
        "colab": {
          "base_uri": "https://localhost:8080/"
        },
        "id": "i_CT8TLTMuFh",
        "outputId": "1541410b-cc9f-4285-f833-7d89a6f2089c"
      },
      "outputs": [
        {
          "name": "stderr",
          "output_type": "stream",
          "text": [
            "/usr/local/lib/python3.10/dist-packages/sklearn/utils/validation.py:1143: DataConversionWarning: A column-vector y was passed when a 1d array was expected. Please change the shape of y to (n_samples, ), for example using ravel().\n",
            "  y = column_or_1d(y, warn=True)\n",
            "<ipython-input-20-d3849e1ab7a7>:15: DataConversionWarning: A column-vector y was passed when a 1d array was expected. Please change the shape of y to (n_samples,), for example using ravel().\n",
            "  model.fit(train_X, train_y)\n",
            "/usr/local/lib/python3.10/dist-packages/sklearn/ensemble/_gb.py:437: DataConversionWarning: A column-vector y was passed when a 1d array was expected. Please change the shape of y to (n_samples, ), for example using ravel().\n",
            "  y = column_or_1d(y, warn=True)\n",
            "/usr/local/lib/python3.10/dist-packages/sklearn/utils/validation.py:1143: DataConversionWarning: A column-vector y was passed when a 1d array was expected. Please change the shape of y to (n_samples, ), for example using ravel().\n",
            "  y = column_or_1d(y, warn=True)\n",
            "<ipython-input-20-d3849e1ab7a7>:15: DataConversionWarning: A column-vector y was passed when a 1d array was expected. Please change the shape of y to (n_samples,), for example using ravel().\n",
            "  model.fit(train_X, train_y)\n",
            "/usr/local/lib/python3.10/dist-packages/sklearn/ensemble/_gb.py:437: DataConversionWarning: A column-vector y was passed when a 1d array was expected. Please change the shape of y to (n_samples, ), for example using ravel().\n",
            "  y = column_or_1d(y, warn=True)\n",
            "/usr/local/lib/python3.10/dist-packages/sklearn/utils/validation.py:1143: DataConversionWarning: A column-vector y was passed when a 1d array was expected. Please change the shape of y to (n_samples, ), for example using ravel().\n",
            "  y = column_or_1d(y, warn=True)\n",
            "<ipython-input-20-d3849e1ab7a7>:15: DataConversionWarning: A column-vector y was passed when a 1d array was expected. Please change the shape of y to (n_samples,), for example using ravel().\n",
            "  model.fit(train_X, train_y)\n",
            "/usr/local/lib/python3.10/dist-packages/sklearn/ensemble/_gb.py:437: DataConversionWarning: A column-vector y was passed when a 1d array was expected. Please change the shape of y to (n_samples, ), for example using ravel().\n",
            "  y = column_or_1d(y, warn=True)\n",
            "/usr/local/lib/python3.10/dist-packages/sklearn/utils/validation.py:1143: DataConversionWarning: A column-vector y was passed when a 1d array was expected. Please change the shape of y to (n_samples, ), for example using ravel().\n",
            "  y = column_or_1d(y, warn=True)\n",
            "<ipython-input-20-d3849e1ab7a7>:15: DataConversionWarning: A column-vector y was passed when a 1d array was expected. Please change the shape of y to (n_samples,), for example using ravel().\n",
            "  model.fit(train_X, train_y)\n",
            "/usr/local/lib/python3.10/dist-packages/sklearn/ensemble/_gb.py:437: DataConversionWarning: A column-vector y was passed when a 1d array was expected. Please change the shape of y to (n_samples, ), for example using ravel().\n",
            "  y = column_or_1d(y, warn=True)\n",
            "/usr/local/lib/python3.10/dist-packages/sklearn/utils/validation.py:1143: DataConversionWarning: A column-vector y was passed when a 1d array was expected. Please change the shape of y to (n_samples, ), for example using ravel().\n",
            "  y = column_or_1d(y, warn=True)\n",
            "<ipython-input-20-d3849e1ab7a7>:15: DataConversionWarning: A column-vector y was passed when a 1d array was expected. Please change the shape of y to (n_samples,), for example using ravel().\n",
            "  model.fit(train_X, train_y)\n",
            "/usr/local/lib/python3.10/dist-packages/sklearn/ensemble/_gb.py:437: DataConversionWarning: A column-vector y was passed when a 1d array was expected. Please change the shape of y to (n_samples, ), for example using ravel().\n",
            "  y = column_or_1d(y, warn=True)\n",
            "/usr/local/lib/python3.10/dist-packages/sklearn/utils/validation.py:1143: DataConversionWarning: A column-vector y was passed when a 1d array was expected. Please change the shape of y to (n_samples, ), for example using ravel().\n",
            "  y = column_or_1d(y, warn=True)\n",
            "<ipython-input-20-d3849e1ab7a7>:15: DataConversionWarning: A column-vector y was passed when a 1d array was expected. Please change the shape of y to (n_samples,), for example using ravel().\n",
            "  model.fit(train_X, train_y)\n",
            "/usr/local/lib/python3.10/dist-packages/sklearn/ensemble/_gb.py:437: DataConversionWarning: A column-vector y was passed when a 1d array was expected. Please change the shape of y to (n_samples, ), for example using ravel().\n",
            "  y = column_or_1d(y, warn=True)\n",
            "/usr/local/lib/python3.10/dist-packages/sklearn/utils/validation.py:1143: DataConversionWarning: A column-vector y was passed when a 1d array was expected. Please change the shape of y to (n_samples, ), for example using ravel().\n",
            "  y = column_or_1d(y, warn=True)\n",
            "<ipython-input-20-d3849e1ab7a7>:15: DataConversionWarning: A column-vector y was passed when a 1d array was expected. Please change the shape of y to (n_samples,), for example using ravel().\n",
            "  model.fit(train_X, train_y)\n",
            "/usr/local/lib/python3.10/dist-packages/sklearn/ensemble/_gb.py:437: DataConversionWarning: A column-vector y was passed when a 1d array was expected. Please change the shape of y to (n_samples, ), for example using ravel().\n",
            "  y = column_or_1d(y, warn=True)\n",
            "/usr/local/lib/python3.10/dist-packages/sklearn/utils/validation.py:1143: DataConversionWarning: A column-vector y was passed when a 1d array was expected. Please change the shape of y to (n_samples, ), for example using ravel().\n",
            "  y = column_or_1d(y, warn=True)\n",
            "<ipython-input-20-d3849e1ab7a7>:15: DataConversionWarning: A column-vector y was passed when a 1d array was expected. Please change the shape of y to (n_samples,), for example using ravel().\n",
            "  model.fit(train_X, train_y)\n",
            "/usr/local/lib/python3.10/dist-packages/sklearn/ensemble/_gb.py:437: DataConversionWarning: A column-vector y was passed when a 1d array was expected. Please change the shape of y to (n_samples, ), for example using ravel().\n",
            "  y = column_or_1d(y, warn=True)\n",
            "/usr/local/lib/python3.10/dist-packages/sklearn/utils/validation.py:1143: DataConversionWarning: A column-vector y was passed when a 1d array was expected. Please change the shape of y to (n_samples, ), for example using ravel().\n",
            "  y = column_or_1d(y, warn=True)\n",
            "<ipython-input-20-d3849e1ab7a7>:15: DataConversionWarning: A column-vector y was passed when a 1d array was expected. Please change the shape of y to (n_samples,), for example using ravel().\n",
            "  model.fit(train_X, train_y)\n",
            "/usr/local/lib/python3.10/dist-packages/sklearn/ensemble/_gb.py:437: DataConversionWarning: A column-vector y was passed when a 1d array was expected. Please change the shape of y to (n_samples, ), for example using ravel().\n",
            "  y = column_or_1d(y, warn=True)\n",
            "/usr/local/lib/python3.10/dist-packages/sklearn/utils/validation.py:1143: DataConversionWarning: A column-vector y was passed when a 1d array was expected. Please change the shape of y to (n_samples, ), for example using ravel().\n",
            "  y = column_or_1d(y, warn=True)\n",
            "<ipython-input-20-d3849e1ab7a7>:15: DataConversionWarning: A column-vector y was passed when a 1d array was expected. Please change the shape of y to (n_samples,), for example using ravel().\n",
            "  model.fit(train_X, train_y)\n",
            "/usr/local/lib/python3.10/dist-packages/sklearn/ensemble/_gb.py:437: DataConversionWarning: A column-vector y was passed when a 1d array was expected. Please change the shape of y to (n_samples, ), for example using ravel().\n",
            "  y = column_or_1d(y, warn=True)\n"
          ]
        },
        {
          "name": "stdout",
          "output_type": "stream",
          "text": [
            "Meta  (1104, 5) (1104, 1)\n"
          ]
        }
      ],
      "source": [
        "# get out of fold predictions\n",
        "meta_X, meta_y = get_out_of_fold_predictions(X, y, models)\n",
        "print('Meta ', meta_X.shape, meta_y.shape)"
      ]
    },
    {
      "cell_type": "code",
      "execution_count": 35,
      "metadata": {
        "colab": {
          "base_uri": "https://localhost:8080/"
        },
        "id": "CMd8ajiAMuFh",
        "outputId": "d3ca411d-8282-4246-ab32-268867e6727c"
      },
      "outputs": [
        {
          "name": "stderr",
          "output_type": "stream",
          "text": [
            "/usr/local/lib/python3.10/dist-packages/sklearn/utils/validation.py:1143: DataConversionWarning: A column-vector y was passed when a 1d array was expected. Please change the shape of y to (n_samples, ), for example using ravel().\n",
            "  y = column_or_1d(y, warn=True)\n",
            "<ipython-input-21-5822ed9f185a>:4: DataConversionWarning: A column-vector y was passed when a 1d array was expected. Please change the shape of y to (n_samples,), for example using ravel().\n",
            "  model.fit(X, y)\n",
            "/usr/local/lib/python3.10/dist-packages/sklearn/ensemble/_gb.py:437: DataConversionWarning: A column-vector y was passed when a 1d array was expected. Please change the shape of y to (n_samples, ), for example using ravel().\n",
            "  y = column_or_1d(y, warn=True)\n"
          ]
        }
      ],
      "source": [
        "# fit base models\n",
        "fit_base_models(X, y, models)"
      ]
    },
    {
      "cell_type": "code",
      "execution_count": 36,
      "metadata": {
        "id": "BViCdepRMuFh"
      },
      "outputs": [],
      "source": [
        "# fit the meta model\n",
        "meta_model = fit_meta_model(meta_X, meta_y)"
      ]
    },
    {
      "cell_type": "code",
      "execution_count": 37,
      "metadata": {
        "colab": {
          "base_uri": "https://localhost:8080/"
        },
        "id": "Q5uqUnBdMuFi",
        "outputId": "3d0f066d-cec8-461d-b77f-d5c0fccaf5b4"
      },
      "outputs": [
        {
          "name": "stdout",
          "output_type": "stream",
          "text": [
            "LinearRegression: RMSE 34.910\n",
            "SVR: RMSE 37.598\n",
            "KNeighborsRegressor: RMSE 36.981\n",
            "RandomForestRegressor: RMSE 22.096\n",
            "GradientBoostingRegressor: RMSE 19.925\n"
          ]
        }
      ],
      "source": [
        "# evaluate base models\n",
        "evaluate_models(X_val, y_val, models)"
      ]
    },
    {
      "cell_type": "code",
      "execution_count": 38,
      "metadata": {
        "colab": {
          "base_uri": "https://localhost:8080/"
        },
        "id": "0jjI_qT2MuFi",
        "outputId": "6dd0427c-33fa-4065-dca6-d26e3cf99878"
      },
      "outputs": [
        {
          "name": "stdout",
          "output_type": "stream",
          "text": [
            "Super Learner: RMSE 19.466\n"
          ]
        }
      ],
      "source": [
        "# evaluate meta model\n",
        "yhat = super_learner_predictions(X_val, models, meta_model)\n",
        "print('Super Learner: RMSE %.3f' % (sqrt(mean_squared_error(y_val, yhat))))"
      ]
    },
    {
      "cell_type": "code",
      "execution_count": 39,
      "metadata": {
        "id": "r7jWAOwjTpWw"
      },
      "outputs": [],
      "source": [
        "from sklearn import metrics"
      ]
    },
    {
      "cell_type": "code",
      "execution_count": 40,
      "metadata": {
        "colab": {
          "base_uri": "https://localhost:8080/"
        },
        "id": "XQPdRsI0TfVy",
        "outputId": "49635f61-069d-433d-d0b5-759dcce0d3f6"
      },
      "outputs": [
        {
          "data": {
            "text/plain": [
              "0.9046856373486232"
            ]
          },
          "execution_count": 40,
          "metadata": {},
          "output_type": "execute_result"
        }
      ],
      "source": [
        "metrics.r2_score(y_val,yhat)"
      ]
    }
  ],
  "metadata": {
    "colab": {
      "provenance": []
    },
    "kernelspec": {
      "display_name": "Python 3",
      "language": "python",
      "name": "python3"
    },
    "language_info": {
      "codemirror_mode": {
        "name": "ipython",
        "version": 3
      },
      "file_extension": ".py",
      "mimetype": "text/x-python",
      "name": "python",
      "nbconvert_exporter": "python",
      "pygments_lexer": "ipython3",
      "version": "3.10.11"
    },
    "orig_nbformat": 4
  },
  "nbformat": 4,
  "nbformat_minor": 0
}
