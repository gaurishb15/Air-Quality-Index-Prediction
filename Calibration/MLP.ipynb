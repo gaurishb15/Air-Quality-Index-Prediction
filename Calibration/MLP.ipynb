{
 "cells": [
  {
   "attachments": {},
   "cell_type": "markdown",
   "metadata": {},
   "source": [
    "# Simple Neural Networks"
   ]
  },
  {
   "cell_type": "code",
   "execution_count": 81,
   "metadata": {},
   "outputs": [],
   "source": [
    "import pandas as pd \n",
    "import os \n",
    "import sys \n",
    "import pickle"
   ]
  },
  {
   "cell_type": "code",
   "execution_count": 10,
   "metadata": {},
   "outputs": [],
   "source": [
    "import matplotlib.pyplot as plt\n",
    "from matplotlib import rcParams, cycler\n",
    "\n",
    "rcParams['figure.figsize'] = 14, 7\n",
    "rcParams['lines.linewidth'] = 2.5\n",
    "rcParams['axes.prop_cycle'] = cycler(color = ['#424242'])\n",
    "rcParams['xtick.labelsize'] = 'xx-large'\n",
    "rcParams['ytick.labelsize'] = 'xx-large'"
   ]
  },
  {
   "cell_type": "code",
   "execution_count": 46,
   "metadata": {},
   "outputs": [
    {
     "name": "stdout",
     "output_type": "stream",
     "text": [
      "(1153, 47)\n"
     ]
    },
    {
     "data": {
      "text/html": [
       "<div>\n",
       "<style scoped>\n",
       "    .dataframe tbody tr th:only-of-type {\n",
       "        vertical-align: middle;\n",
       "    }\n",
       "\n",
       "    .dataframe tbody tr th {\n",
       "        vertical-align: top;\n",
       "    }\n",
       "\n",
       "    .dataframe thead th {\n",
       "        text-align: right;\n",
       "    }\n",
       "</style>\n",
       "<table border=\"1\" class=\"dataframe\">\n",
       "  <thead>\n",
       "    <tr style=\"text-align: right;\">\n",
       "      <th></th>\n",
       "      <th>PM25</th>\n",
       "      <th>RH</th>\n",
       "      <th>AT</th>\n",
       "      <th>WS</th>\n",
       "      <th>WD</th>\n",
       "      <th>pm25_1211220109</th>\n",
       "      <th>temperature_1211220109</th>\n",
       "      <th>humidity_1211220109</th>\n",
       "      <th>pm25_1212220023</th>\n",
       "      <th>temperature_1212220023</th>\n",
       "      <th>...</th>\n",
       "      <th>RH.3_5002914AB52D</th>\n",
       "      <th>PM25.4_8CAAB56B9EAF</th>\n",
       "      <th>Temp.4_8CAAB56B9EAF</th>\n",
       "      <th>RH.4_8CAAB56B9EAF</th>\n",
       "      <th>PM25.5_E0980690FF7B</th>\n",
       "      <th>Temp.5_E0980690FF7B</th>\n",
       "      <th>RH.5_E0980690FF7B</th>\n",
       "      <th>PM25.6_F4CFA2D625EE</th>\n",
       "      <th>Temp.6_F4CFA2D625EE</th>\n",
       "      <th>RH.6_F4CFA2D625EE</th>\n",
       "    </tr>\n",
       "    <tr>\n",
       "      <th>dt_time</th>\n",
       "      <th></th>\n",
       "      <th></th>\n",
       "      <th></th>\n",
       "      <th></th>\n",
       "      <th></th>\n",
       "      <th></th>\n",
       "      <th></th>\n",
       "      <th></th>\n",
       "      <th></th>\n",
       "      <th></th>\n",
       "      <th></th>\n",
       "      <th></th>\n",
       "      <th></th>\n",
       "      <th></th>\n",
       "      <th></th>\n",
       "      <th></th>\n",
       "      <th></th>\n",
       "      <th></th>\n",
       "      <th></th>\n",
       "      <th></th>\n",
       "      <th></th>\n",
       "    </tr>\n",
       "  </thead>\n",
       "  <tbody>\n",
       "    <tr>\n",
       "      <th>2023-04-21 10:00:00</th>\n",
       "      <td>53.50</td>\n",
       "      <td>27.75</td>\n",
       "      <td>35.40</td>\n",
       "      <td>2.65</td>\n",
       "      <td>238.50</td>\n",
       "      <td>NaN</td>\n",
       "      <td>NaN</td>\n",
       "      <td>NaN</td>\n",
       "      <td>NaN</td>\n",
       "      <td>NaN</td>\n",
       "      <td>...</td>\n",
       "      <td>NaN</td>\n",
       "      <td>NaN</td>\n",
       "      <td>NaN</td>\n",
       "      <td>NaN</td>\n",
       "      <td>NaN</td>\n",
       "      <td>NaN</td>\n",
       "      <td>NaN</td>\n",
       "      <td>NaN</td>\n",
       "      <td>NaN</td>\n",
       "      <td>NaN</td>\n",
       "    </tr>\n",
       "    <tr>\n",
       "      <th>2023-04-21 11:00:00</th>\n",
       "      <td>50.25</td>\n",
       "      <td>26.25</td>\n",
       "      <td>36.80</td>\n",
       "      <td>2.30</td>\n",
       "      <td>236.25</td>\n",
       "      <td>NaN</td>\n",
       "      <td>NaN</td>\n",
       "      <td>NaN</td>\n",
       "      <td>NaN</td>\n",
       "      <td>NaN</td>\n",
       "      <td>...</td>\n",
       "      <td>NaN</td>\n",
       "      <td>NaN</td>\n",
       "      <td>NaN</td>\n",
       "      <td>NaN</td>\n",
       "      <td>NaN</td>\n",
       "      <td>NaN</td>\n",
       "      <td>NaN</td>\n",
       "      <td>NaN</td>\n",
       "      <td>NaN</td>\n",
       "      <td>NaN</td>\n",
       "    </tr>\n",
       "    <tr>\n",
       "      <th>2023-04-21 12:00:00</th>\n",
       "      <td>42.00</td>\n",
       "      <td>25.25</td>\n",
       "      <td>38.15</td>\n",
       "      <td>2.35</td>\n",
       "      <td>234.50</td>\n",
       "      <td>NaN</td>\n",
       "      <td>NaN</td>\n",
       "      <td>NaN</td>\n",
       "      <td>NaN</td>\n",
       "      <td>NaN</td>\n",
       "      <td>...</td>\n",
       "      <td>NaN</td>\n",
       "      <td>NaN</td>\n",
       "      <td>NaN</td>\n",
       "      <td>NaN</td>\n",
       "      <td>NaN</td>\n",
       "      <td>NaN</td>\n",
       "      <td>NaN</td>\n",
       "      <td>NaN</td>\n",
       "      <td>NaN</td>\n",
       "      <td>NaN</td>\n",
       "    </tr>\n",
       "    <tr>\n",
       "      <th>2023-04-21 13:00:00</th>\n",
       "      <td>33.00</td>\n",
       "      <td>24.75</td>\n",
       "      <td>38.48</td>\n",
       "      <td>2.33</td>\n",
       "      <td>230.00</td>\n",
       "      <td>NaN</td>\n",
       "      <td>NaN</td>\n",
       "      <td>NaN</td>\n",
       "      <td>NaN</td>\n",
       "      <td>NaN</td>\n",
       "      <td>...</td>\n",
       "      <td>NaN</td>\n",
       "      <td>NaN</td>\n",
       "      <td>NaN</td>\n",
       "      <td>NaN</td>\n",
       "      <td>NaN</td>\n",
       "      <td>NaN</td>\n",
       "      <td>NaN</td>\n",
       "      <td>NaN</td>\n",
       "      <td>NaN</td>\n",
       "      <td>NaN</td>\n",
       "    </tr>\n",
       "    <tr>\n",
       "      <th>2023-04-21 14:00:00</th>\n",
       "      <td>27.75</td>\n",
       "      <td>26.00</td>\n",
       "      <td>38.33</td>\n",
       "      <td>2.05</td>\n",
       "      <td>230.75</td>\n",
       "      <td>NaN</td>\n",
       "      <td>NaN</td>\n",
       "      <td>NaN</td>\n",
       "      <td>NaN</td>\n",
       "      <td>NaN</td>\n",
       "      <td>...</td>\n",
       "      <td>NaN</td>\n",
       "      <td>NaN</td>\n",
       "      <td>NaN</td>\n",
       "      <td>NaN</td>\n",
       "      <td>NaN</td>\n",
       "      <td>NaN</td>\n",
       "      <td>NaN</td>\n",
       "      <td>NaN</td>\n",
       "      <td>NaN</td>\n",
       "      <td>NaN</td>\n",
       "    </tr>\n",
       "  </tbody>\n",
       "</table>\n",
       "<p>5 rows × 47 columns</p>\n",
       "</div>"
      ],
      "text/plain": [
       "                      PM25     RH     AT    WS      WD  pm25_1211220109  \\\n",
       "dt_time                                                                   \n",
       "2023-04-21 10:00:00  53.50  27.75  35.40  2.65  238.50              NaN   \n",
       "2023-04-21 11:00:00  50.25  26.25  36.80  2.30  236.25              NaN   \n",
       "2023-04-21 12:00:00  42.00  25.25  38.15  2.35  234.50              NaN   \n",
       "2023-04-21 13:00:00  33.00  24.75  38.48  2.33  230.00              NaN   \n",
       "2023-04-21 14:00:00  27.75  26.00  38.33  2.05  230.75              NaN   \n",
       "\n",
       "                     temperature_1211220109  humidity_1211220109  \\\n",
       "dt_time                                                            \n",
       "2023-04-21 10:00:00                     NaN                  NaN   \n",
       "2023-04-21 11:00:00                     NaN                  NaN   \n",
       "2023-04-21 12:00:00                     NaN                  NaN   \n",
       "2023-04-21 13:00:00                     NaN                  NaN   \n",
       "2023-04-21 14:00:00                     NaN                  NaN   \n",
       "\n",
       "                     pm25_1212220023  temperature_1212220023  ...  \\\n",
       "dt_time                                                       ...   \n",
       "2023-04-21 10:00:00              NaN                     NaN  ...   \n",
       "2023-04-21 11:00:00              NaN                     NaN  ...   \n",
       "2023-04-21 12:00:00              NaN                     NaN  ...   \n",
       "2023-04-21 13:00:00              NaN                     NaN  ...   \n",
       "2023-04-21 14:00:00              NaN                     NaN  ...   \n",
       "\n",
       "                     RH.3_5002914AB52D  PM25.4_8CAAB56B9EAF  \\\n",
       "dt_time                                                       \n",
       "2023-04-21 10:00:00                NaN                  NaN   \n",
       "2023-04-21 11:00:00                NaN                  NaN   \n",
       "2023-04-21 12:00:00                NaN                  NaN   \n",
       "2023-04-21 13:00:00                NaN                  NaN   \n",
       "2023-04-21 14:00:00                NaN                  NaN   \n",
       "\n",
       "                     Temp.4_8CAAB56B9EAF  RH.4_8CAAB56B9EAF  \\\n",
       "dt_time                                                       \n",
       "2023-04-21 10:00:00                  NaN                NaN   \n",
       "2023-04-21 11:00:00                  NaN                NaN   \n",
       "2023-04-21 12:00:00                  NaN                NaN   \n",
       "2023-04-21 13:00:00                  NaN                NaN   \n",
       "2023-04-21 14:00:00                  NaN                NaN   \n",
       "\n",
       "                     PM25.5_E0980690FF7B  Temp.5_E0980690FF7B  \\\n",
       "dt_time                                                         \n",
       "2023-04-21 10:00:00                  NaN                  NaN   \n",
       "2023-04-21 11:00:00                  NaN                  NaN   \n",
       "2023-04-21 12:00:00                  NaN                  NaN   \n",
       "2023-04-21 13:00:00                  NaN                  NaN   \n",
       "2023-04-21 14:00:00                  NaN                  NaN   \n",
       "\n",
       "                     RH.5_E0980690FF7B  PM25.6_F4CFA2D625EE  \\\n",
       "dt_time                                                       \n",
       "2023-04-21 10:00:00                NaN                  NaN   \n",
       "2023-04-21 11:00:00                NaN                  NaN   \n",
       "2023-04-21 12:00:00                NaN                  NaN   \n",
       "2023-04-21 13:00:00                NaN                  NaN   \n",
       "2023-04-21 14:00:00                NaN                  NaN   \n",
       "\n",
       "                     Temp.6_F4CFA2D625EE  RH.6_F4CFA2D625EE  \n",
       "dt_time                                                      \n",
       "2023-04-21 10:00:00                  NaN                NaN  \n",
       "2023-04-21 11:00:00                  NaN                NaN  \n",
       "2023-04-21 12:00:00                  NaN                NaN  \n",
       "2023-04-21 13:00:00                  NaN                NaN  \n",
       "2023-04-21 14:00:00                  NaN                NaN  \n",
       "\n",
       "[5 rows x 47 columns]"
      ]
     },
     "execution_count": 46,
     "metadata": {},
     "output_type": "execute_result"
    }
   ],
   "source": [
    "df = pd.read_csv('Gopalganj_14 devices data_21 April -8 June 2023 - Gopalganj_14 devices data_21 April -29 May.csv')\n",
    "df['dt_time'] = pd.to_datetime(df['dt_time'])\n",
    "df.set_index('dt_time', inplace=True)\n",
    "print(df.shape)\n",
    "df.head()"
   ]
  },
  {
   "cell_type": "code",
   "execution_count": 83,
   "metadata": {},
   "outputs": [],
   "source": [
    "for col in df.columns:\n",
    "\n",
    "    null_values = df[col].isnull().sum()\n",
    "    if null_values > 150:\n",
    "        df.drop(col, axis=1, inplace=True)"
   ]
  },
  {
   "cell_type": "code",
   "execution_count": 84,
   "metadata": {},
   "outputs": [
    {
     "name": "stdout",
     "output_type": "stream",
     "text": [
      "PM25                      0\n",
      "RH                        0\n",
      "AT                        0\n",
      "WS                        0\n",
      "WD                        0\n",
      "pm25_1212220023           0\n",
      "temperature_1212220023    0\n",
      "humidity_1212220023       0\n",
      "pm25_1201230044           0\n",
      "temperature_1201230044    0\n",
      "humidity_1201230044       0\n",
      "pm25_1212220159           0\n",
      "temperature_1212220159    0\n",
      "humidity_1212220159       0\n",
      "PM25_2CF4328C5AB4         0\n",
      "Temp_2CF4328C5AB4         0\n",
      "RH_2CF4328C5AB4           0\n",
      "PM25.1_2CF4328C5BAD       0\n",
      "Temp.1_2CF4328C5BAD       0\n",
      "RH.1_2CF4328C5BAD         0\n",
      "PM25.3_5002914AB52D       0\n",
      "Temp.3_5002914AB52D       0\n",
      "RH.3_5002914AB52D         0\n",
      "PM25.4_8CAAB56B9EAF       0\n",
      "Temp.4_8CAAB56B9EAF       0\n",
      "RH.4_8CAAB56B9EAF         0\n",
      "PM25.5_E0980690FF7B       0\n",
      "Temp.5_E0980690FF7B       0\n",
      "RH.5_E0980690FF7B         0\n",
      "PM25.6_F4CFA2D625EE       0\n",
      "Temp.6_F4CFA2D625EE       0\n",
      "RH.6_F4CFA2D625EE         0\n",
      "dtype: int64\n"
     ]
    }
   ],
   "source": [
    "df_int = df.interpolate(method='linear', axis=1, limit=None)\n",
    "print(df_int.isnull().sum())"
   ]
  },
  {
   "cell_type": "code",
   "execution_count": 74,
   "metadata": {},
   "outputs": [
    {
     "name": "stdout",
     "output_type": "stream",
     "text": [
      "(1153, 32)\n"
     ]
    }
   ],
   "source": [
    "print(df_int.shape)"
   ]
  },
  {
   "cell_type": "code",
   "execution_count": 85,
   "metadata": {},
   "outputs": [
    {
     "name": "stdout",
     "output_type": "stream",
     "text": [
      "0\n",
      "0\n",
      "0\n",
      "0\n",
      "0\n",
      "0\n",
      "0\n",
      "0\n",
      "0\n"
     ]
    }
   ],
   "source": [
    "y_true = df_int.iloc[:, 0]\n",
    "all_add = df_int.iloc[:, 1:5]\n",
    "\n",
    "final_list = []\n",
    "\n",
    "for i in range(5, 32, 3):\n",
    "    x = df_int.iloc[:, i:i+3]\n",
    "    x_cat = pd.concat([x, all_add], axis=1)\n",
    "    print(x_cat.isnull().sum().sum())\n",
    "    final_list.append((x_cat, y_true))"
   ]
  },
  {
   "cell_type": "code",
   "execution_count": 86,
   "metadata": {},
   "outputs": [],
   "source": [
    "with open('final_list.pkl', 'wb') as f: \n",
    "    pickle.dump(final_list, f)"
   ]
  },
  {
   "cell_type": "code",
   "execution_count": 80,
   "metadata": {},
   "outputs": [
    {
     "data": {
      "text/plain": [
       "((1153, 7), (1153,))"
      ]
     },
     "execution_count": 80,
     "metadata": {},
     "output_type": "execute_result"
    }
   ],
   "source": [
    "final_list[0][0].shape, final_list[0][1].shape"
   ]
  },
  {
   "attachments": {},
   "cell_type": "markdown",
   "metadata": {},
   "source": [
    "# Try_2"
   ]
  },
  {
   "cell_type": "code",
   "execution_count": 1,
   "metadata": {},
   "outputs": [],
   "source": [
    "import torch \n",
    "import torch.nn as nn \n",
    "import torch.optim as optim \n",
    "import torch.nn.functional as F\n",
    "from torch.utils.data import DataLoader\n",
    "from torchmetrics import MeanAbsolutePercentageError\n",
    "\n",
    "import pandas as pd\n",
    "from sklearn.model_selection import train_test_split\n",
    "from sklearn.preprocessing import MinMaxScaler\n",
    "\n",
    "from tqdm.notebook import tqdm\n",
    "import sys \n",
    "import os\n",
    "import numpy as np"
   ]
  },
  {
   "cell_type": "code",
   "execution_count": 2,
   "metadata": {},
   "outputs": [],
   "source": [
    "import matplotlib.pyplot as plt\n",
    "from matplotlib import rcParams, cycler\n",
    "\n",
    "rcParams['figure.figsize'] = 14, 7\n",
    "rcParams['lines.linewidth'] = 2.5\n",
    "rcParams['axes.prop_cycle'] = cycler(color = ['#424242'])\n",
    "rcParams['xtick.labelsize'] = 'xx-large'\n",
    "rcParams['ytick.labelsize'] = 'xx-large'"
   ]
  },
  {
   "cell_type": "code",
   "execution_count": 3,
   "metadata": {},
   "outputs": [
    {
     "name": "stdout",
     "output_type": "stream",
     "text": [
      "df.shape = (1153, 14)\n"
     ]
    },
    {
     "data": {
      "text/html": [
       "<div>\n",
       "<style scoped>\n",
       "    .dataframe tbody tr th:only-of-type {\n",
       "        vertical-align: middle;\n",
       "    }\n",
       "\n",
       "    .dataframe tbody tr th {\n",
       "        vertical-align: top;\n",
       "    }\n",
       "\n",
       "    .dataframe thead th {\n",
       "        text-align: right;\n",
       "    }\n",
       "</style>\n",
       "<table border=\"1\" class=\"dataframe\">\n",
       "  <thead>\n",
       "    <tr style=\"text-align: right;\">\n",
       "      <th></th>\n",
       "      <th>pm25_1212220023</th>\n",
       "      <th>RH</th>\n",
       "      <th>AT</th>\n",
       "      <th>WS</th>\n",
       "      <th>WD</th>\n",
       "      <th>pm25_1201230044</th>\n",
       "      <th>pm25_1212220159</th>\n",
       "      <th>PM25_2CF4328C5AB4</th>\n",
       "      <th>PM25.1_2CF4328C5BAD</th>\n",
       "      <th>PM25.3_5002914AB52D</th>\n",
       "      <th>PM25.4_8CAAB56B9EAF</th>\n",
       "      <th>PM25.5_E0980690FF7B</th>\n",
       "      <th>PM25.6_F4CFA2D625EE</th>\n",
       "      <th>PM25</th>\n",
       "    </tr>\n",
       "  </thead>\n",
       "  <tbody>\n",
       "    <tr>\n",
       "      <th>0</th>\n",
       "      <td>191.6250</td>\n",
       "      <td>27.75</td>\n",
       "      <td>35.40</td>\n",
       "      <td>2.65</td>\n",
       "      <td>238.50</td>\n",
       "      <td>51.0</td>\n",
       "      <td>35.0</td>\n",
       "      <td>35.0</td>\n",
       "      <td>35.0</td>\n",
       "      <td>35.0</td>\n",
       "      <td>35.0</td>\n",
       "      <td>35.0</td>\n",
       "      <td>35.0</td>\n",
       "      <td>53.50</td>\n",
       "    </tr>\n",
       "    <tr>\n",
       "      <th>1</th>\n",
       "      <td>188.6875</td>\n",
       "      <td>26.25</td>\n",
       "      <td>36.80</td>\n",
       "      <td>2.30</td>\n",
       "      <td>236.25</td>\n",
       "      <td>46.0</td>\n",
       "      <td>29.5</td>\n",
       "      <td>29.5</td>\n",
       "      <td>29.5</td>\n",
       "      <td>29.5</td>\n",
       "      <td>29.5</td>\n",
       "      <td>29.5</td>\n",
       "      <td>29.5</td>\n",
       "      <td>50.25</td>\n",
       "    </tr>\n",
       "    <tr>\n",
       "      <th>2</th>\n",
       "      <td>181.3750</td>\n",
       "      <td>25.25</td>\n",
       "      <td>38.15</td>\n",
       "      <td>2.35</td>\n",
       "      <td>234.50</td>\n",
       "      <td>22.0</td>\n",
       "      <td>24.5</td>\n",
       "      <td>24.5</td>\n",
       "      <td>24.5</td>\n",
       "      <td>24.5</td>\n",
       "      <td>24.5</td>\n",
       "      <td>24.5</td>\n",
       "      <td>24.5</td>\n",
       "      <td>42.00</td>\n",
       "    </tr>\n",
       "    <tr>\n",
       "      <th>3</th>\n",
       "      <td>178.0000</td>\n",
       "      <td>24.75</td>\n",
       "      <td>38.48</td>\n",
       "      <td>2.33</td>\n",
       "      <td>230.00</td>\n",
       "      <td>22.0</td>\n",
       "      <td>23.5</td>\n",
       "      <td>23.5</td>\n",
       "      <td>23.5</td>\n",
       "      <td>23.5</td>\n",
       "      <td>23.5</td>\n",
       "      <td>23.5</td>\n",
       "      <td>23.5</td>\n",
       "      <td>33.00</td>\n",
       "    </tr>\n",
       "    <tr>\n",
       "      <th>4</th>\n",
       "      <td>178.8125</td>\n",
       "      <td>26.00</td>\n",
       "      <td>38.33</td>\n",
       "      <td>2.05</td>\n",
       "      <td>230.75</td>\n",
       "      <td>23.0</td>\n",
       "      <td>22.0</td>\n",
       "      <td>22.0</td>\n",
       "      <td>22.0</td>\n",
       "      <td>22.0</td>\n",
       "      <td>22.0</td>\n",
       "      <td>22.0</td>\n",
       "      <td>22.0</td>\n",
       "      <td>27.75</td>\n",
       "    </tr>\n",
       "  </tbody>\n",
       "</table>\n",
       "</div>"
      ],
      "text/plain": [
       "   pm25_1212220023     RH     AT    WS      WD  pm25_1201230044  \\\n",
       "0         191.6250  27.75  35.40  2.65  238.50             51.0   \n",
       "1         188.6875  26.25  36.80  2.30  236.25             46.0   \n",
       "2         181.3750  25.25  38.15  2.35  234.50             22.0   \n",
       "3         178.0000  24.75  38.48  2.33  230.00             22.0   \n",
       "4         178.8125  26.00  38.33  2.05  230.75             23.0   \n",
       "\n",
       "   pm25_1212220159  PM25_2CF4328C5AB4  PM25.1_2CF4328C5BAD  \\\n",
       "0             35.0               35.0                 35.0   \n",
       "1             29.5               29.5                 29.5   \n",
       "2             24.5               24.5                 24.5   \n",
       "3             23.5               23.5                 23.5   \n",
       "4             22.0               22.0                 22.0   \n",
       "\n",
       "   PM25.3_5002914AB52D  PM25.4_8CAAB56B9EAF  PM25.5_E0980690FF7B  \\\n",
       "0                 35.0                 35.0                 35.0   \n",
       "1                 29.5                 29.5                 29.5   \n",
       "2                 24.5                 24.5                 24.5   \n",
       "3                 23.5                 23.5                 23.5   \n",
       "4                 22.0                 22.0                 22.0   \n",
       "\n",
       "   PM25.6_F4CFA2D625EE   PM25  \n",
       "0                 35.0  53.50  \n",
       "1                 29.5  50.25  \n",
       "2                 24.5  42.00  \n",
       "3                 23.5  33.00  \n",
       "4                 22.0  27.75  "
      ]
     },
     "execution_count": 3,
     "metadata": {},
     "output_type": "execute_result"
    }
   ],
   "source": [
    "df = pd.read_csv('combined.csv')\n",
    "print(f\"df.shape = {df.shape}\")\n",
    "df.head()"
   ]
  },
  {
   "cell_type": "code",
   "execution_count": 4,
   "metadata": {},
   "outputs": [
    {
     "name": "stdout",
     "output_type": "stream",
     "text": [
      "X.shape = (1153, 13), y.shape = (1153,)\n"
     ]
    }
   ],
   "source": [
    "X = df.iloc[:, :-1]\n",
    "y = df.iloc[:, -1]\n",
    "\n",
    "print(f\"X.shape = {X.shape}, y.shape = {y.shape}\")"
   ]
  },
  {
   "cell_type": "code",
   "execution_count": 5,
   "metadata": {},
   "outputs": [
    {
     "name": "stdout",
     "output_type": "stream",
     "text": [
      "X_train.shape = (1037, 13), X_test.shape = (116, 13)\n",
      "y_train.shape = (1037,), y_test.shape = (116,)\n"
     ]
    }
   ],
   "source": [
    "X_train, X_test, y_train, y_test = train_test_split(X, y, test_size=0.1, shuffle=False, random_state=482)\n",
    "print(f\"X_train.shape = {X_train.shape}, X_test.shape = {X_test.shape}\")\n",
    "print(f\"y_train.shape = {y_train.shape}, y_test.shape = {y_test.shape}\")"
   ]
  },
  {
   "cell_type": "code",
   "execution_count": 6,
   "metadata": {},
   "outputs": [],
   "source": [
    "# scaling the train dataset\n",
    "scaler = MinMaxScaler()\n",
    "X_train_norm = scaler.fit_transform(X_train.values)\n",
    "X_test_norm = scaler.transform(X_test.values)"
   ]
  },
  {
   "cell_type": "code",
   "execution_count": 7,
   "metadata": {},
   "outputs": [
    {
     "name": "stdout",
     "output_type": "stream",
     "text": [
      "X_train_tensor = torch.Size([1037, 13]), X_test_tensor.shape = (116, 13)\n",
      "y_train_tensor.shape = torch.Size([1037]), y_test_tensor.shape = torch.Size([116])\n"
     ]
    }
   ],
   "source": [
    "# converting into pytorch tensors\n",
    "\n",
    "X_train_tensor = torch.from_numpy(X_train_norm).type(torch.float32)\n",
    "y_train_tensor = torch.from_numpy(y_train.values).type(torch.float32)\n",
    "\n",
    "X_test_tensor = torch.from_numpy(X_test_norm).type(torch.float32)\n",
    "y_test_tensor = torch.from_numpy(y_test.values).type(torch.float32)\n",
    "\n",
    "print(f\"X_train_tensor = {X_train_tensor.shape}, X_test_tensor.shape = {X_test_norm.shape}\")\n",
    "print(f\"y_train_tensor.shape = {y_train_tensor.shape}, y_test_tensor.shape = {y_test_tensor.shape}\")"
   ]
  },
  {
   "cell_type": "code",
   "execution_count": 8,
   "metadata": {},
   "outputs": [],
   "source": [
    "class Main_Model(nn.Module):\n",
    "\n",
    "    def __init__(self):\n",
    "        super().__init__()\n",
    "        self.net = nn.Sequential(\n",
    "            nn.Linear(13, 6), nn.ReLU(),\n",
    "            nn.Linear(6, 1)\n",
    "        )\n",
    "        # self.net = nn.Sequential(\n",
    "        #     nn.Linear(13, 1)\n",
    "        # )\n",
    "\n",
    "    def forward(self, X):\n",
    "        return self.net.forward(X)"
   ]
  },
  {
   "cell_type": "code",
   "execution_count": 35,
   "metadata": {},
   "outputs": [],
   "source": [
    "max_iterations = 20\n",
    "lr = 0.5"
   ]
  },
  {
   "cell_type": "code",
   "execution_count": 40,
   "metadata": {},
   "outputs": [],
   "source": [
    "# main_model = Main_Model()\n",
    "main_model = nn.Linear(13, 1)\n",
    "criterion = nn.MSELoss()\n",
    "# optimizer = optim.Adam(main_model.parameters(), lr=lr)\n",
    "optimizer = optim.Adam(main_model.parameters(), lr=lr)\n",
    "mape = MeanAbsolutePercentageError()"
   ]
  },
  {
   "cell_type": "code",
   "execution_count": 43,
   "metadata": {},
   "outputs": [
    {
     "data": {
      "application/vnd.jupyter.widget-view+json": {
       "model_id": "3dde2ace35504e35bb33b855f4909d92",
       "version_major": 2,
       "version_minor": 0
      },
      "text/plain": [
       "  0%|          | 0/20 [00:00<?, ?it/s]"
      ]
     },
     "metadata": {},
     "output_type": "display_data"
    },
    {
     "name": "stdout",
     "output_type": "stream",
     "text": [
      "epoch : 0/20, loss = 5193.0439453125, mape_train = 1.0019668340682983\n",
      "mape_val = 0.9612126350402832\n",
      "\n",
      "\n",
      "****************************************************************************************************\n",
      "epoch : 5/20, loss = 3992.560791015625, mape_train = 0.791004478931427\n",
      "mape_val = 0.7546294927597046\n",
      "\n",
      "\n",
      "****************************************************************************************************\n",
      "epoch : 10/20, loss = 3052.005615234375, mape_train = 0.6031441688537598\n",
      "mape_val = 0.5592886209487915\n",
      "\n",
      "\n",
      "****************************************************************************************************\n",
      "epoch : 15/20, loss = 2370.9755859375, mape_train = 0.4607175588607788\n",
      "mape_val = 0.40890732407569885\n",
      "\n",
      "\n",
      "****************************************************************************************************\n"
     ]
    },
    {
     "name": "stderr",
     "output_type": "stream",
     "text": [
      "/Users/arnav39/Desktop/project1/venv/lib/python3.10/site-packages/torch/nn/modules/loss.py:536: UserWarning: Using a target size (torch.Size([1037])) that is different to the input size (torch.Size([1037, 1])). This will likely lead to incorrect results due to broadcasting. Please ensure they have the same size.\n",
      "  return F.mse_loss(input, target, reduction=self.reduction)\n"
     ]
    }
   ],
   "source": [
    "for epoch in tqdm(range(max_iterations)):\n",
    "\n",
    "    main_model.train()\n",
    "\n",
    "    y_hat = main_model(X_train_tensor)\n",
    "    loss = criterion(y_hat, y_train_tensor)\n",
    "\n",
    "    # print(y_hat.shape, y_train_tensor.shape)\n",
    "    # sys.exit()\n",
    "    mape_val = mape(y_hat.view(-1), y_train_tensor)\n",
    "\n",
    "    optimizer.zero_grad()\n",
    "    loss.backward()\n",
    "\n",
    "    optimizer.step()\n",
    "\n",
    "    if epoch%5 == 0:\n",
    "\n",
    "        print(f\"epoch : {epoch}/{max_iterations}, loss = {loss.item()}, mape_train = {mape_val.item()}\")\n",
    "\n",
    "        with torch.no_grad():\n",
    "\n",
    "            main_model.eval()\n",
    "            pred = main_model.forward(X_test_tensor)\n",
    "            mape_val = mape(pred.view(-1), y_test_tensor)\n",
    "            print(f\"mape_val = {mape_val.item()}\")\n",
    "            \n",
    "        print('\\n')\n",
    "        print('*' * 100)"
   ]
  },
  {
   "cell_type": "code",
   "execution_count": 44,
   "metadata": {},
   "outputs": [
    {
     "name": "stdout",
     "output_type": "stream",
     "text": [
      "(116,) torch.Size([116])\n"
     ]
    }
   ],
   "source": [
    "main_model.eval()\n",
    "\n",
    "with torch.no_grad():\n",
    "    # print(f\"X_test_tensor.shape = {X_test_tensor.shape}\")\n",
    "    final_pred = main_model(X_test_tensor)\n",
    "    # print(f\"final_pred.shape = {final_pred.shape}\")\n",
    "\n",
    "final_pred_np = final_pred.view(-1).numpy()\n",
    "print(final_pred_np.shape, y_test_tensor.shape)"
   ]
  },
  {
   "cell_type": "code",
   "execution_count": 45,
   "metadata": {},
   "outputs": [
    {
     "data": {
      "image/png": "[encoded data removed]",
      "text/plain": [
       "<Figure size 1400x700 with 1 Axes>"
      ]
     },
     "metadata": {},
     "output_type": "display_data"
    }
   ],
   "source": [
    "x = np.arange(len(final_pred_np))\n",
    "plt.plot(x, y_test.values, color='blue', label='true')\n",
    "plt.plot(x, final_pred_np, color='red', label='predictions')\n",
    "plt.grid()\n",
    "plt.legend()\n",
    "plt.show()\n"
   ]
  }
 ],
 "metadata": {
  "kernelspec": {
   "display_name": "venv",
   "language": "python",
   "name": "python3"
  },
  "language_info": {
   "codemirror_mode": {
    "name": "ipython",
    "version": 3
   },
   "file_extension": ".py",
   "mimetype": "text/x-python",
   "name": "python",
   "nbconvert_exporter": "python",
   "pygments_lexer": "ipython3",
   "version": "3.10.8"
  },
  "orig_nbformat": 4
 },
 "nbformat": 4,
 "nbformat_minor": 2
}
